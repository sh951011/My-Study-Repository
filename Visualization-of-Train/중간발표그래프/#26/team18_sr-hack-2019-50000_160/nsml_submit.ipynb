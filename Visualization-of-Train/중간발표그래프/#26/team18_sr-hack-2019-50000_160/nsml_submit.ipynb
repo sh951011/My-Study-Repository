{
 "cells": [
  {
   "cell_type": "code",
   "execution_count": null,
   "metadata": {},
   "outputs": [
    {
     "name": "stdout",
     "output_type": "stream",
     "text": [
      "start 통과\n",
      "submit : 10일-2시-49분-14초 Session 119 cer\n",
      "submit : 10일-3시-52분-48초 Session 119 cer\n",
      "submit : 10일-5시-54분-11초 Session 119 cer\n",
      "submit : 10일-6시-57분-43초 Session 119 cer\n",
      "submit : 10일-8시-9분-51초 Session 119 cer\n",
      "submit : 10일-9시-22분-17초 Session 119 cer\n"
     ]
    }
   ],
   "source": [
    "import os\n",
    "import time\n",
    "from datetime import datetime\n",
    "\n",
    "start = True\n",
    "\n",
    "while True:\n",
    "    if start == True:\n",
    "        print(\"start 통과\")\n",
    "        time.sleep(60*61)\n",
    "        start = False\n",
    "    ARGS = \"nsml submit team18/sr-hack-2019-50000/119 cer\"\n",
    "    os.system(ARGS)\n",
    "    now = datetime.now()\n",
    "    print ( 'submit : %s일-%s시-%s분-%s초 Session 119 cer' % ( now.day, now.hour, now.minute, now.second ) )\n",
    "    time.sleep(60*61)"
   ]
  },
  {
   "cell_type": "code",
   "execution_count": null,
   "metadata": {},
   "outputs": [],
   "source": []
  }
 ],
 "metadata": {
  "kernelspec": {
   "display_name": "Python 3",
   "language": "python",
   "name": "python3"
  },
  "language_info": {
   "codemirror_mode": {
    "name": "ipython",
    "version": 3
   },
   "file_extension": ".py",
   "mimetype": "text/x-python",
   "name": "python",
   "nbconvert_exporter": "python",
   "pygments_lexer": "ipython3",
   "version": "3.7.1"
  }
 },
 "nbformat": 4,
 "nbformat_minor": 2
}
