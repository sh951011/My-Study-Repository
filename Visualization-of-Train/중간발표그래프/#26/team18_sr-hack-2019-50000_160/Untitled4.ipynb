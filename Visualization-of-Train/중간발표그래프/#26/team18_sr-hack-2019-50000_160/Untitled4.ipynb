{
 "cells": [
  {
   "cell_type": "code",
   "execution_count": null,
   "metadata": {},
   "outputs": [
    {
     "name": "stdout",
     "output_type": "stream",
     "text": [
      "65\n",
      "70\n"
     ]
    }
   ],
   "source": [
    "import os\n",
    "import time\n",
    "#os.system(\"nsml login\")\n",
    "# 자기 정보 입력\n",
    "for index in range(65,100, 5):\n",
    "    ARGS = \"nsml submit team18/sr-hack-2019-dataset/1178 epoch\" + str(index)\n",
    "    os.system(ARGS)\n",
    "    print(index)\n",
    "    time.sleep(60*61)"
   ]
  },
  {
   "cell_type": "code",
   "execution_count": null,
   "metadata": {},
   "outputs": [],
   "source": []
  }
 ],
 "metadata": {
  "kernelspec": {
   "display_name": "Python 3",
   "language": "python",
   "name": "python3"
  },
  "language_info": {
   "codemirror_mode": {
    "name": "ipython",
    "version": 3
   },
   "file_extension": ".py",
   "mimetype": "text/x-python",
   "name": "python",
   "nbconvert_exporter": "python",
   "pygments_lexer": "ipython3",
   "version": "3.7.1"
  }
 },
 "nbformat": 4,
 "nbformat_minor": 2
}
