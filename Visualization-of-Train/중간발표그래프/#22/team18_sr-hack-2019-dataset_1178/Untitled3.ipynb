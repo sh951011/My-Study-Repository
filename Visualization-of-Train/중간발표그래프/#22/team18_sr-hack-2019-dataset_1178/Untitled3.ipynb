{
 "cells": [
  {
   "cell_type": "code",
   "execution_count": 2,
   "metadata": {},
   "outputs": [
    {
     "data": {
      "text/plain": [
       "torch.Size([79, 257])"
      ]
     },
     "execution_count": 2,
     "metadata": {},
     "output_type": "execute_result"
    }
   ],
   "source": [
    "import numpy as np\n",
    "import torch\n",
    "SAMPLE_RATE = 16000\n",
    "\n",
    "\n",
    "def get_melspectrogram_feature(filepath):\n",
    "    sample_rate = SAMPLE_RATE\n",
    "    signal = np.memmap(filepath, dtype = 'h', mode = 'r')\n",
    "\n",
    "    pre_emphasis = 0.97\n",
    "    emphasized_signal = np.append(signal[0], signal[1:] - pre_emphasis * signal[:-1])\n",
    "\n",
    "    frame_size = 0.025   # 25ms\n",
    "    frame_stride = 0.01  # 10ms hop-size == 15ms overlap\n",
    "    # Convert from seconds to samples.\n",
    "    frame_length, frame_step = frame_size * sample_rate, frame_stride * sample_rate\n",
    "    signal_length = len(emphasized_signal)\n",
    "    frame_length = int(round(frame_length))\n",
    "    frame_step = int(round(frame_step))\n",
    "    # Make sure that we have at least 1 frame.\n",
    "    num_frames = int(np.ceil(float(np.abs(signal_length - frame_length)) / frame_step))\n",
    "\n",
    "    pad_signal_length = num_frames * frame_step + frame_length\n",
    "    z = np.zeros((pad_signal_length - signal_length))\n",
    "    # Pad Signal to make sure that all frames have equal number of samples without\n",
    "    # truncating any samples from the original signal.\n",
    "    pad_signal = np.append(emphasized_signal, z)\n",
    "\n",
    "    indices = np.tile(np.arange(0, frame_length), (num_frames, 1)) + np.tile(np.arange(0, num_frames * frame_step, frame_step),\n",
    "                 (frame_length, 1)).T\n",
    "    frames = pad_signal[indices.astype(np.int32, copy=False)]\n",
    "\n",
    "    # Hamming window\n",
    "    frames *= np.hamming(frame_length)\n",
    "       # Explicit Implementation **\n",
    "       # frames *= 0.54 - 0.46 * numpy.cos((2 * numpy.pi * n) / (frame_length - 1))\n",
    "    NFFT = 512\n",
    "    mag_frames = np.absolute(np.fft.rfft(frames, NFFT))  # Magnitude of the FFT\n",
    "    pow_frames = ((1.0 / NFFT) * ((mag_frames) ** 2))               # Power Spectrum\n",
    "\n",
    "    low_freq_mel = 0\n",
    "    nfilt = 257\n",
    "    # Convert Hz to Mel\n",
    "    high_freq_mel = (2595 * np.log10(1 + (sample_rate / 2) / 700))\n",
    "    # Equally spaced in Mel scale\n",
    "    mel_points = np.linspace(low_freq_mel, high_freq_mel, nfilt + 2)\n",
    "    # Convert Mel to Hz\n",
    "    hz_points = (700 * (10**(mel_points / 2595) - 1))\n",
    "    bin = np.floor((NFFT + 1) * hz_points / sample_rate)\n",
    "    fbank = np.zeros((nfilt, int(np.floor(NFFT / 2 + 1))))\n",
    "    for m in range(1, nfilt + 1):\n",
    "        f_m_minus = int(bin[m - 1])   # left\n",
    "        f_m = int(bin[m])                # center\n",
    "        f_m_plus = int(bin[m + 1])    # right\n",
    "\n",
    "\n",
    "        for k in range(f_m_minus, f_m):\n",
    "            fbank[m - 1, k] = (k - bin[m - 1]) / (bin[m] - bin[m - 1])\n",
    "        for k in range(f_m, f_m_plus):\n",
    "            fbank[m - 1, k] = (bin[m + 1] - k) / (bin[m + 1] - bin[m])\n",
    "\n",
    "    filter_banks = np.dot(pow_frames, fbank.T)\n",
    "    # Numerical Stability\n",
    "    filter_banks = np.where(filter_banks == 0, np.finfo(float).eps, filter_banks)\n",
    "    filter_banks = 20 * np.log10(filter_banks)  # dB\n",
    "\n",
    "    feat = torch.FloatTensor(filter_banks)\n",
    "    return feat\n",
    "get_melspectrogram_feature('marvin (1).wav').shape"
   ]
  },
  {
   "cell_type": "code",
   "execution_count": 3,
   "metadata": {},
   "outputs": [
    {
     "data": {
      "text/plain": [
       "torch.Size([98, 257])"
      ]
     },
     "execution_count": 3,
     "metadata": {},
     "output_type": "execute_result"
    }
   ],
   "source": [
    "get_melspectrogram_feature('cat (1).wav').shape"
   ]
  },
  {
   "cell_type": "code",
   "execution_count": null,
   "metadata": {},
   "outputs": [],
   "source": []
  }
 ],
 "metadata": {
  "kernelspec": {
   "display_name": "Python 3",
   "language": "python",
   "name": "python3"
  },
  "language_info": {
   "codemirror_mode": {
    "name": "ipython",
    "version": 3
   },
   "file_extension": ".py",
   "mimetype": "text/x-python",
   "name": "python",
   "nbconvert_exporter": "python",
   "pygments_lexer": "ipython3",
   "version": "3.7.1"
  }
 },
 "nbformat": 4,
 "nbformat_minor": 2
}
