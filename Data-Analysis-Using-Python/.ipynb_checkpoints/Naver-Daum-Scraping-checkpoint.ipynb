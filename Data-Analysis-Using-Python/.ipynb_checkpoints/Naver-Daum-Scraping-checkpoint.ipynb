{
 "cells": [
  {
   "cell_type": "code",
   "execution_count": 3,
   "metadata": {},
   "outputs": [
    {
     "name": "stdout",
     "output_type": "stream",
     "text": [
      "<2019년 11월 11일 16:27 기준>\n",
      "\n",
      "1 김호영\n",
      "2 빅스마일데이\n",
      "3 아이언맨 led 마스크\n",
      "4 11월 빅세일 반트365\n",
      "5 무탠다드 555 감사세일\n",
      "6 강원대학교\n",
      "7 이랜드리테일\n",
      "8 문자의대변신채팅플러스\n",
      "9 이자스민\n",
      "10 이한위\n"
     ]
    }
   ],
   "source": [
    "from bs4 import BeautifulSoup\n",
    "from urllib.request import urlopen\n",
    "from time import sleep\n",
    "from datetime import datetime\n",
    "\n",
    "url = 'https://www.naver.com'\n",
    "html = urlopen(url)\n",
    "soup = BeautifulSoup(html, \"html.parser\")\n",
    "\n",
    "while True:\n",
    "    rank = []\n",
    "    now = datetime.now()\n",
    "    print ( '<%s년 %s월 %s일 %s:%s 기준>\\n' % ( now.year, now.month, now.day, now.hour, now.minute ) )\n",
    "    \n",
    "    for i in range(10):\n",
    "        tmp = soup.find_all('li','ah_item')[i]\n",
    "        rank.append(tmp.find(class_='ah_k').get_text())\n",
    "    for i, item in enumerate(rank):\n",
    "        print(str(i+1) + \" \" + item)\n",
    "    #sleep(10) # 10초마다 업데이트\n",
    "    break # 확인용"
   ]
  },
  {
   "cell_type": "code",
   "execution_count": 5,
   "metadata": {},
   "outputs": [
    {
     "name": "stdout",
     "output_type": "stream",
     "text": [
      "<2019년 11월 11일 16:39 기준>\n",
      "\n",
      "1 김호영\n",
      "2 손학규\n",
      "3 오신환\n",
      "4 강원대학교\n",
      "5 정경심\n",
      "6 문무일\n",
      "7 이자스민\n",
      "8 반광옥\n",
      "9 박소담\n",
      "10 경기도교육청\n"
     ]
    }
   ],
   "source": [
    "from bs4 import BeautifulSoup\n",
    "from urllib.request import urlopen\n",
    "from time import sleep\n",
    "from datetime import datetime\n",
    "\n",
    "url = 'https://www.daum.net'\n",
    "html = urlopen(url)\n",
    "soup = BeautifulSoup(html, \"html.parser\")\n",
    "\n",
    "while True:\n",
    "    rank = []\n",
    "    now = datetime.now()\n",
    "    print ( '<%s년 %s월 %s일 %s:%s 기준>\\n' % ( now.year, now.month, now.day, now.hour, now.minute ) )\n",
    "    \n",
    "    for i in range(10):\n",
    "        tmp = soup.find_all('span','txt_issue')[2*i]\n",
    "        rank.append(tmp.get_text())\n",
    "\n",
    "    for i, item in enumerate(rank):\n",
    "        print(str(i+1) + \" \" + item)\n",
    "    #sleep(10) # 10초마다 업데이트\n",
    "    break # 확인용"
   ]
  },
  {
   "cell_type": "code",
   "execution_count": null,
   "metadata": {},
   "outputs": [],
   "source": []
  }
 ],
 "metadata": {
  "kernelspec": {
   "display_name": "Python 3",
   "language": "python",
   "name": "python3"
  },
  "language_info": {
   "codemirror_mode": {
    "name": "ipython",
    "version": 3
   },
   "file_extension": ".py",
   "mimetype": "text/x-python",
   "name": "python",
   "nbconvert_exporter": "python",
   "pygments_lexer": "ipython3",
   "version": "3.7.1"
  }
 },
 "nbformat": 4,
 "nbformat_minor": 2
}
