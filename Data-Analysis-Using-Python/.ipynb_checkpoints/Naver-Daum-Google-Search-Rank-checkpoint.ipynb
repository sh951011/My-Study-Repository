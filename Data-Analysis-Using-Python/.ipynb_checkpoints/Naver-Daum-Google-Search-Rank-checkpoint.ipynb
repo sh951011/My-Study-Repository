{
 "cells": [
  {
   "cell_type": "code",
   "execution_count": 1,
   "metadata": {},
   "outputs": [],
   "source": [
    "from bs4 import BeautifulSoup\n",
    "from urllib.request import urlopen\n",
    "from time import sleep\n",
    "from datetime import datetime\n",
    "from selenium import webdriver"
   ]
  },
  {
   "cell_type": "code",
   "execution_count": 2,
   "metadata": {},
   "outputs": [
    {
     "name": "stdout",
     "output_type": "stream",
     "text": [
      "<2019년 11월 12일 2:23 기준>\n",
      "\n",
      "1 김호영\n",
      "2 레이디스코드\n",
      "3 권리세\n",
      "4 범죄도시\n",
      "5 이재윤\n",
      "6 프리바이오틱스\n",
      "7 레이디스코드 교통사고\n",
      "8 이자스민\n",
      "9 폴리아모리\n",
      "10 보좌관2\n"
     ]
    }
   ],
   "source": [
    "def naver_rank():\n",
    "    url = 'https://www.naver.com'\n",
    "    html = urlopen(url)\n",
    "    soup = BeautifulSoup(html, \"html.parser\")\n",
    "\n",
    "    rank = []\n",
    "    now = datetime.now()\n",
    "    print ( '<%s년 %s월 %s일 %s:%s 기준>\\n' % ( now.year, now.month, now.day, now.hour, now.minute ) )\n",
    "\n",
    "    for i in range(10):\n",
    "        tmp = soup.find_all('li','ah_item')[i]\n",
    "        rank.append(tmp.find(class_='ah_k').get_text())\n",
    "    for i, item in enumerate(rank):\n",
    "        print(str(i+1) + \" \" + item)\n",
    "        \n",
    "naver_rank()"
   ]
  },
  {
   "cell_type": "code",
   "execution_count": 3,
   "metadata": {},
   "outputs": [
    {
     "name": "stdout",
     "output_type": "stream",
     "text": [
      "<2019년 11월 12일 2:23 기준>\n",
      "\n",
      "1 김호영\n",
      "2 레이디스 코드\n",
      "3 권리세\n",
      "4 진이한\n",
      "5 장한나\n",
      "6 정경심\n",
      "7 블룸버그\n",
      "8 보좌관 시즌2\n",
      "9 아이비\n",
      "10 이자스민\n"
     ]
    }
   ],
   "source": [
    "def daum_rank():\n",
    "    url = 'https://www.daum.net'\n",
    "    html = urlopen(url)\n",
    "    soup = BeautifulSoup(html, \"html.parser\")\n",
    "\n",
    "    rank = []\n",
    "    now = datetime.now()\n",
    "    print ( '<%s년 %s월 %s일 %s:%s 기준>\\n' % ( now.year, now.month, now.day, now.hour, now.minute ) )\n",
    "\n",
    "    for i in range(10):\n",
    "        tmp = soup.find_all('span','txt_issue')[2*i]\n",
    "        rank.append(tmp.get_text())\n",
    "\n",
    "    for i, item in enumerate(rank):\n",
    "        print(str(i+1) + \" \" + item)\n",
    "\n",
    "daum_rank()"
   ]
  },
  {
   "cell_type": "code",
   "execution_count": 4,
   "metadata": {},
   "outputs": [
    {
     "name": "stdout",
     "output_type": "stream",
     "text": [
      "<2019년 11월 12일 2:23 기준>\n",
      "\n",
      "1 리버풀대맨시티\n",
      "2 11번가\n",
      "3 알리익스프레스\n",
      "4 알리바바\n",
      "5 프리미어12\n",
      "6 세나\n",
      "7 김호영\n",
      "8 대한민국U-17대멕시코U-17\n",
      "9 다크웹\n",
      "10 도인비아내\n"
     ]
    }
   ],
   "source": [
    "def google_rank():\n",
    "    rank = []\n",
    "    driver = webdriver.Chrome('./driver/chromedriver')\n",
    "    driver.get('https://trends.google.co.kr/trends/trendingsearches/daily?geo=KR')\n",
    "    xpath = \"\"\"//*[@id=\"feed-item-리버풀 대 맨시티\"]/div[1]/div[2]/div[1]\"\"\"\n",
    "    test = driver.find_element_by_xpath(xpath)\n",
    "    html = driver.page_source\n",
    "    soup = BeautifulSoup(html, \"html.parser\")\n",
    "    rank_html = soup.find_all('div','details-top')\n",
    "    \n",
    "    now = datetime.now()\n",
    "    print ( '<%s년 %s월 %s일 %s:%s 기준>\\n' % ( now.year, now.month, now.day, now.hour, now.minute ) )\n",
    "    \n",
    "    for i in range(10):\n",
    "        tmp = rank_html[i].find(class_='title').get_text().replace(' ','')\n",
    "        rank.append(tmp.replace('\\n', ''))\n",
    "    for i, item in enumerate(rank):\n",
    "            print(str(i+1) + \" \" + item)\n",
    "google_rank()      "
   ]
  }
 ],
 "metadata": {
  "kernelspec": {
   "display_name": "Python 3",
   "language": "python",
   "name": "python3"
  },
  "language_info": {
   "codemirror_mode": {
    "name": "ipython",
    "version": 3
   },
   "file_extension": ".py",
   "mimetype": "text/x-python",
   "name": "python",
   "nbconvert_exporter": "python",
   "pygments_lexer": "ipython3",
   "version": "3.7.1"
  }
 },
 "nbformat": 4,
 "nbformat_minor": 2
}
