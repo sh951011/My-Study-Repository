{
 "cells": [
  {
   "cell_type": "code",
   "execution_count": 1,
   "metadata": {},
   "outputs": [],
   "source": [
    "from bs4 import BeautifulSoup\n",
    "from urllib.request import urlopen\n",
    "from time import sleep\n",
    "from datetime import datetime\n",
    "from selenium import webdriver"
   ]
  },
  {
   "cell_type": "code",
   "execution_count": 2,
   "metadata": {},
   "outputs": [
    {
     "name": "stdout",
     "output_type": "stream",
     "text": [
      "<2019년 11월 12일 13:59 기준>\n",
      "\n",
      "1 이혜성\n",
      "2 전현무\n",
      "3 전현무 이혜성\n",
      "4 겟잇뷰티 릴렉싱앰플\n",
      "5 한혜진\n",
      "6 이혜성 아나운서\n",
      "7 이혜성 아나운서 인스타\n",
      "8 전현무 나이\n",
      "9 신세경데님레깅스\n",
      "10 김호영\n"
     ]
    }
   ],
   "source": [
    "def naver_rank():\n",
    "    url = 'https://www.naver.com'\n",
    "    html = urlopen(url)\n",
    "    soup = BeautifulSoup(html, \"html.parser\")\n",
    "\n",
    "    rank = []\n",
    "    now = datetime.now()\n",
    "    print ( '<%s년 %s월 %s일 %s:%s 기준>\\n' % ( now.year, now.month, now.day, now.hour, now.minute ) )\n",
    "\n",
    "    for i in range(10):\n",
    "        tmp = soup.find_all('li','ah_item')[i]\n",
    "        rank.append(tmp.find(class_='ah_k').get_text())\n",
    "    for i, item in enumerate(rank):\n",
    "        print(str(i+1) + \" \" + item)\n",
    "        \n",
    "naver_rank()"
   ]
  },
  {
   "cell_type": "code",
   "execution_count": 3,
   "metadata": {},
   "outputs": [
    {
     "name": "stdout",
     "output_type": "stream",
     "text": [
      "<2019년 11월 12일 13:59 기준>\n",
      "\n",
      "1 전현무\n",
      "2 한혜진\n",
      "3 신영균\n",
      "4 김호영\n",
      "5 HDC 현대산업개발\n",
      "6 이진혁\n",
      "7 서사무엘\n",
      "8 홍정욱\n",
      "9 권리세\n",
      "10 상상인 저축은행\n"
     ]
    }
   ],
   "source": [
    "def daum_rank():\n",
    "    url = 'https://www.daum.net'\n",
    "    html = urlopen(url)\n",
    "    soup = BeautifulSoup(html, \"html.parser\")\n",
    "\n",
    "    rank = []\n",
    "    now = datetime.now()\n",
    "    print ( '<%s년 %s월 %s일 %s:%s 기준>\\n' % ( now.year, now.month, now.day, now.hour, now.minute ) )\n",
    "\n",
    "    for i in range(10):\n",
    "        tmp = soup.find_all('span','txt_issue')[2*i]\n",
    "        rank.append(tmp.get_text())\n",
    "\n",
    "    for i, item in enumerate(rank):\n",
    "        print(str(i+1) + \" \" + item)\n",
    "\n",
    "daum_rank()"
   ]
  },
  {
   "cell_type": "code",
   "execution_count": 5,
   "metadata": {},
   "outputs": [
    {
     "name": "stdout",
     "output_type": "stream",
     "text": [
      "<2019년 11월 12일 14:3 기준>\n",
      "\n",
      "1 이혜성\n",
      "2 정경심\n",
      "3 보좌관시즌2\n",
      "4 11번가\n",
      "5 리버풀맨시티\n",
      "6 도인비\n",
      "7 알리익스프레스\n",
      "8 프리미어12\n",
      "9 김호영\n",
      "10 알리바바\n"
     ]
    }
   ],
   "source": [
    "def google_rank():\n",
    "    rank = []\n",
    "    driver = webdriver.Chrome('./driver/chromedriver')\n",
    "    driver.get('https://trends.google.co.kr/trends/trendingsearches/daily?geo=KR')\n",
    "    xpath = \"\"\"/html/body/div[2]/div[2]/div/div[2]\"\"\"\n",
    "    test = driver.find_element_by_xpath(xpath)\n",
    "    html = driver.page_source\n",
    "    soup = BeautifulSoup(html, \"html.parser\")\n",
    "    rank_html = soup.find_all('div','details-top')\n",
    "    \n",
    "    now = datetime.now()\n",
    "    print ( '<%s년 %s월 %s일 %s:%s 기준>\\n' % ( now.year, now.month, now.day, now.hour, now.minute ) )\n",
    "    \n",
    "    for i in range(10):\n",
    "        tmp = rank_html[i].find(class_='title').get_text().replace(' ','')\n",
    "        rank.append(tmp.replace('\\n', ''))\n",
    "    for i, item in enumerate(rank):\n",
    "            print(str(i+1) + \" \" + item)\n",
    "google_rank()      "
   ]
  },
  {
   "cell_type": "code",
   "execution_count": null,
   "metadata": {},
   "outputs": [],
   "source": []
  }
 ],
 "metadata": {
  "kernelspec": {
   "display_name": "Python 3",
   "language": "python",
   "name": "python3"
  },
  "language_info": {
   "codemirror_mode": {
    "name": "ipython",
    "version": 3
   },
   "file_extension": ".py",
   "mimetype": "text/x-python",
   "name": "python",
   "nbconvert_exporter": "python",
   "pygments_lexer": "ipython3",
   "version": "3.7.1"
  }
 },
 "nbformat": 4,
 "nbformat_minor": 2
}
