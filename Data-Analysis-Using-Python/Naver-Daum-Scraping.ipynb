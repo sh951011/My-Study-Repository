{
 "cells": [
  {
   "cell_type": "code",
   "execution_count": 9,
   "metadata": {},
   "outputs": [
    {
     "name": "stdout",
     "output_type": "stream",
     "text": [
      "<2019년 11월 11일 15:26 기준>\n",
      "\n",
      "1 아이언맨 led 마스크\n",
      "2 빅스마일데이\n",
      "3 무탠다드 555 감사세일\n",
      "4 김호영\n",
      "5 문자의대변신채팅플러스\n",
      "6 빅스마일데이 다이슨\n",
      "7 세리번나이트 v라인다이어트\n",
      "8 11월 빅세일 반트365\n",
      "9 강원대학교\n",
      "10 cu도시락990원\n"
     ]
    }
   ],
   "source": [
    "from bs4 import BeautifulSoup\n",
    "from urllib.request import urlopen\n",
    "from time import sleep\n",
    "from datetime import datetime\n",
    "\n",
    "url = 'https://www.naver.com'\n",
    "html = urlopen(url)\n",
    "soup = BeautifulSoup(html, \"html.parser\")\n",
    "\n",
    "while True:\n",
    "    rank = []\n",
    "    now = datetime.now()\n",
    "    print ( '<%s년 %s월 %s일 %s:%s 기준>\\n' % ( now.year, now.month, now.day, now.hour, now.minute ) )\n",
    "    \n",
    "    for i in range(10):\n",
    "        rank_soup = soup.find_all('li','ah_item')[i]\n",
    "        rank.append(rank_soup.find(class_='ah_k').get_text())\n",
    "    for i, item in enumerate(rank):\n",
    "        print(str(i+1) + \" \" + item)\n",
    "    #sleep(10) # 10초마다 업데이트\n",
    "    break # 확인용"
   ]
  },
  {
   "cell_type": "code",
   "execution_count": 10,
   "metadata": {},
   "outputs": [
    {
     "name": "stdout",
     "output_type": "stream",
     "text": [
      "<2019년 11월 11일 15:26 기준>\n",
      "\n",
      "1 김호영\n",
      "2 강원대학교\n",
      "3 이상미\n",
      "4 권은희\n",
      "5 아이비\n",
      "6 황영호\n",
      "7 홍콩 시위\n",
      "8 정경심\n",
      "9 구속기소\n",
      "10 손나은\n"
     ]
    }
   ],
   "source": [
    "from bs4 import BeautifulSoup\n",
    "from urllib.request import urlopen\n",
    "from time import sleep\n",
    "from datetime import datetime\n",
    "\n",
    "url = 'https://www.daum.net'\n",
    "html = urlopen(url)\n",
    "soup = BeautifulSoup(html, \"html.parser\")\n",
    "\n",
    "rank_soup = soup.find_all('span','txt_issue')\n",
    "\n",
    "while True:\n",
    "    rank = []\n",
    "    now = datetime.now()\n",
    "    print ( '<%s년 %s월 %s일 %s:%s 기준>\\n' % ( now.year, now.month, now.day, now.hour, now.minute ) )\n",
    "    \n",
    "    for i in range(10):\n",
    "        rank.append(soup.find_all('span','txt_issue')[2*i])\n",
    "\n",
    "    for i, item in enumerate(rank):\n",
    "        print(str(i+1) + \" \" + item.get_text())\n",
    "    #sleep(10) # 10초마다 업데이트\n",
    "    break # 확인용"
   ]
  }
 ],
 "metadata": {
  "kernelspec": {
   "display_name": "Python 3",
   "language": "python",
   "name": "python3"
  },
  "language_info": {
   "codemirror_mode": {
    "name": "ipython",
    "version": 3
   },
   "file_extension": ".py",
   "mimetype": "text/x-python",
   "name": "python",
   "nbconvert_exporter": "python",
   "pygments_lexer": "ipython3",
   "version": "3.7.1"
  }
 },
 "nbformat": 4,
 "nbformat_minor": 2
}
