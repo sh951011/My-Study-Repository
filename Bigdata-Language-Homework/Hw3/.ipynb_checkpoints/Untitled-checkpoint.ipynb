{
 "cells": [
  {
   "cell_type": "code",
   "execution_count": 1,
   "metadata": {},
   "outputs": [],
   "source": [
    "def div_ingredient(load):    \n",
    "    metro = load[:,0]\n",
    "    num_family = load[:,1].astype('int64')\n",
    "    age_captain = load[:,2].astype('int64')\n",
    "    asset=load[:,3].astype('int64')\n",
    "    debt=load[:,4].astype('int64')\n",
    "    \n",
    "    return metro, num_family, age_captain,asset,debt"
   ]
  },
  {
   "cell_type": "code",
   "execution_count": 3,
   "metadata": {},
   "outputs": [
    {
     "name": "stdout",
     "output_type": "stream",
     "text": [
      "Wall time: 206 ms\n"
     ]
    }
   ],
   "source": [
    "%%time\n",
    "import numpy as np\n",
    "load = np.loadtxt('asset.csv.txt',delimiter=',',dtype='str')\n",
    "metro,num_family,age_captain,asset,debt=div_ingredient(load)"
   ]
  },
  {
   "cell_type": "code",
   "execution_count": 31,
   "metadata": {},
   "outputs": [
    {
     "name": "stdout",
     "output_type": "stream",
     "text": [
      "\t\t1인가구\t\t2인가구\t\t3인가구\t\t4인가구\t\t5인이상\n",
      "수도권\t\t17518\t\t44448\t\t49660\t\t53632\t\t60608\t\t\n",
      "비수도권\t10994\t\t30802\t\t32053\t\t37865\t\t37412\t\tWall time: 12 ms\n"
     ]
    }
   ],
   "source": [
    "%%time\n",
    "# 1번\n",
    "print(\"\\t\\t1인가구\\t\\t2인가구\\t\\t3인가구\\t\\t4인가구\\t\\t5인이상\")\n",
    "print(\"수도권\",end=\"\\t\\t\")\n",
    "for i in range(5):\n",
    "    metro_n = np.where((metro=='G1')&(num_family==i+1),asset-debt,0);\n",
    "    print(int(metro_n.sum() / np.count_nonzero(metro_n)),end=\"\\t\\t\")\n",
    "print(\"\\n비수도권\",end=\"\\t\")\n",
    "for i in range(5):\n",
    "    nonmetro_n = np.where((metro=='G2')&(num_family==i+1),asset-debt,0)\n",
    "    print(int(nonmetro_n.sum() / np.count_nonzero(nonmetro_n)),end=\"\\t\\t\")"
   ]
  },
  {
   "cell_type": "code",
   "execution_count": 23,
   "metadata": {},
   "outputs": [
    {
     "name": "stdout",
     "output_type": "stream",
     "text": [
      "\t1인가구\t\t2인가구\t\t3인가구\t\t4인가구\t\t5인이상\n",
      "\n",
      " 20대\t 4153\t \t10120\t \t12941\t \t8202\t \t14689\t \t\n",
      " 30대\t 8262\t \t18935\t \t23931\t \t25687\t \t27186\t \t\n",
      " 40대\t 15712\t \t21975\t \t32874\t \t40902\t \t40942\t \t\n",
      " 50대\t 11611\t \t28091\t \t43012\t \t51115\t \t52602\t \t\n",
      " 60대↑\t 14232\t \t40954\t \t48716\t \t60094\t \t66201\t \tWall time: 18 ms\n"
     ]
    }
   ],
   "source": [
    "%%time\n",
    "# 2번\n",
    "lookedup_arr=np.array([29,39,49,59,200])\n",
    "row_list=['20대\\t','30대\\t','40대\\t','50대\\t','60대↑\\t',]\n",
    "print(\"\\t1인가구\\t\\t2인가구\\t\\t3인가구\\t\\t4인가구\\t\\t5인이상\")\n",
    "for i,start_age in enumerate(lookedup_arr):\n",
    "    print(\"\\n\",row_list[i],end=\" \")\n",
    "    for num in range(1,6):\n",
    "        select = np.where((num_family==num) & (age_captain > i*10+19) & (age_captain < lookedup_arr[i]),asset-debt,0)\n",
    "        print(int(select.sum() / np.count_nonzero(select)),end=\"\\t \\t\")"
   ]
  },
  {
   "cell_type": "code",
   "execution_count": null,
   "metadata": {},
   "outputs": [],
   "source": []
  }
 ],
 "metadata": {
  "kernelspec": {
   "display_name": "Python 3",
   "language": "python",
   "name": "python3"
  },
  "language_info": {
   "codemirror_mode": {
    "name": "ipython",
    "version": 3
   },
   "file_extension": ".py",
   "mimetype": "text/x-python",
   "name": "python",
   "nbconvert_exporter": "python",
   "pygments_lexer": "ipython3",
   "version": "3.7.1"
  }
 },
 "nbformat": 4,
 "nbformat_minor": 2
}
