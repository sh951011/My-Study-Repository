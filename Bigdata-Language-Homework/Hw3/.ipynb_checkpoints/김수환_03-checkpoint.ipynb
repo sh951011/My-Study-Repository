{
 "cells": [
  {
   "cell_type": "markdown",
   "metadata": {},
   "source": [
    "# 김수환_03\n",
    "KwangWoon University 전자통신공학과 2014707073 김수환   \n",
    "빅데이터언어 Hw3 : 파이썬을 이용한 통계청 데이터 분석  "
   ]
  },
  {
   "cell_type": "code",
   "execution_count": 1,
   "metadata": {},
   "outputs": [],
   "source": [
    "# 분류별로 데이터를 나누는 함수\n",
    "def div_ingredient(load):    \n",
    "    metro = load[:,0] # 수도권 데이터\n",
    "    family_num = load[:,1].astype('int') # 가족구성원 데이터\n",
    "    captain_age = load[:,2].astype('int') # 가장의 나이 데이터\n",
    "    asset=load[:,3].astype('int') # 자산 데이터\n",
    "    debt=load[:,4].astype('int') # 부채 데이터\n",
    "    \n",
    "    return metro, family_num, captain_age,asset,debt"
   ]
  },
  {
   "cell_type": "code",
   "execution_count": 2,
   "metadata": {
    "scrolled": false
   },
   "outputs": [],
   "source": [
    "# 1번\n",
    "def problem_1(metro, fam, asset, debt):\n",
    "    row_list = ['수도권\\t',\"\\n비수도권\"]\n",
    "    lookedup_fam = [2,3,4,5,10]\n",
    "    EXCEPT = 0.5\n",
    "    print(\"\\t\",*['\\t1인가구\\t','\\t2인가구\\t','\\t3인가구\\t','\\t4인가구\\t','\\t5인가구↑\\n'])\n",
    "    for i, row in enumerate(row_list):\n",
    "        print(row,end='\\t')\n",
    "        for j, luf in enumerate(lookedup_fam):\n",
    "            select = np.where((metro == ('G'+ str(i+1))) & (fam > j) & (fam < luf),asset-debt, EXCEPT);\n",
    "            print(\"{0:7.0f}\".format(select[select != EXCEPT].mean()),end=\"\\t\\t\")"
   ]
  },
  {
   "cell_type": "code",
   "execution_count": 3,
   "metadata": {
    "scrolled": false
   },
   "outputs": [],
   "source": [
    "# 2번\n",
    "def problem_2(metro, fam ,cap, asset, debt):\n",
    "    lookedup_age = [30,40,50,60,200]\n",
    "    lookedup_fam = [2,3,4,5,10]\n",
    "    EXCEPT = 0.5\n",
    "    row_list=['20대\\t','30대\\t','40대\\t','50대\\t','60대↑\\t']\n",
    "    print(\"\\n\\n\",*['\\t1인가구\\t','\\t2인가구\\t','\\t3인가구\\t','\\t4인가구\\t','\\t5인가구↑'])\n",
    "    for i,lu_age in enumerate(lookedup_age):\n",
    "        print(\"\\n\",row_list[i],end=\" \")\n",
    "        for j, lu_fam in enumerate(lookedup_fam):\n",
    "            select = np.where((fam > j) & (fam < lu_fam) & (cap > i*10+19) & (cap < lu_age),asset-debt, EXCEPT)\n",
    "            print(\"{0:6.0f}\".format(select[select!= EXCEPT].mean()),end=\"\\t\\t\")"
   ]
  },
  {
   "cell_type": "code",
   "execution_count": 6,
   "metadata": {
    "scrolled": true
   },
   "outputs": [
    {
     "name": "stdout",
     "output_type": "stream",
     "text": [
      "Wall time: 235 ms\n"
     ]
    }
   ],
   "source": [
    "%%time\n",
    "import numpy as np\n",
    "load = np.loadtxt('asset.csv',delimiter = ',',dtype='str')\n",
    "metro,family_num,captain_age,asset,debt = div_ingredient(load)"
   ]
  },
  {
   "cell_type": "code",
   "execution_count": 7,
   "metadata": {
    "scrolled": true
   },
   "outputs": [
    {
     "name": "stdout",
     "output_type": "stream",
     "text": [
      "\t \t1인가구\t \t2인가구\t \t3인가구\t \t4인가구\t \t5인가구↑\n",
      "\n",
      "수도권\t\t  17491\t\t  44449\t\t  49661\t\t  53632\t\t  60370\t\t\n",
      "비수도권\t  10990\t\t  30803\t\t  32054\t\t  37865\t\t  37447\t\tWall time: 15.9 ms\n"
     ]
    }
   ],
   "source": [
    "%%time\n",
    "problem_1(metro,family_num,asset,debt)"
   ]
  },
  {
   "cell_type": "code",
   "execution_count": 8,
   "metadata": {
    "scrolled": false
   },
   "outputs": [
    {
     "name": "stdout",
     "output_type": "stream",
     "text": [
      "\n",
      "\n",
      " \t1인가구\t \t2인가구\t \t3인가구\t \t4인가구\t \t5인가구↑\n",
      "\n",
      " 20대\t   4754\t\t 11468\t\t 11950\t\t  7926\t\t 14552\t\t\n",
      " 30대\t   8488\t\t 18861\t\t 24389\t\t 27595\t\t 27376\t\t\n",
      " 40대\t  15866\t\t 21337\t\t 33170\t\t 40676\t\t 40685\t\t\n",
      " 50대\t  11917\t\t 29255\t\t 43535\t\t 52297\t\t 52902\t\t\n",
      " 60대↑\t  14222\t\t 40955\t\t 48717\t\t 60094\t\t 62211\t\tWall time: 20.9 ms\n"
     ]
    }
   ],
   "source": [
    "%%time\n",
    "problem_2(metro,family_num,captain_age,asset,debt)"
   ]
  },
  {
   "cell_type": "code",
   "execution_count": 8,
   "metadata": {},
   "outputs": [
    {
     "name": "stdout",
     "output_type": "stream",
     "text": [
      "\t \t1인가구\t \t2인가구\t \t3인가구\t \t4인가구\t \t5인가구↑\n",
      "\n",
      "수도권\t\t  17491\t\t  44449\t\t  49661\t\t  53632\t\t  60370\t\t\n",
      "비수도권\t  10990\t\t  30803\t\t  32054\t\t  37865\t\t  37447\t\t\n",
      "\n",
      " \t1인가구\t \t2인가구\t \t3인가구\t \t4인가구\t \t5인가구↑\n",
      "\n",
      " 20대\t   4754\t\t 11468\t\t 11950\t\t  7926\t\t 14552\t\t\n",
      " 30대\t   8488\t\t 18861\t\t 24389\t\t 27595\t\t 27376\t\t\n",
      " 40대\t  15866\t\t 21337\t\t 33170\t\t 40676\t\t 40685\t\t\n",
      " 50대\t  11917\t\t 29255\t\t 43535\t\t 52297\t\t 52902\t\t\n",
      " 60대↑\t  14222\t\t 40955\t\t 48717\t\t 60094\t\t 62211\t\tWall time: 85.8 ms\n"
     ]
    }
   ],
   "source": [
    "%%time\n",
    "metro,family_num,captain_age,asset,debt = div_ingredient(load)\n",
    "problem_1(metro,family_num,asset,debt)\n",
    "problem_2(metro,family_num,captain_age,asset,debt)"
   ]
  }
 ],
 "metadata": {
  "kernelspec": {
   "display_name": "Python 3",
   "language": "python",
   "name": "python3"
  },
  "language_info": {
   "codemirror_mode": {
    "name": "ipython",
    "version": 3
   },
   "file_extension": ".py",
   "mimetype": "text/x-python",
   "name": "python",
   "nbconvert_exporter": "python",
   "pygments_lexer": "ipython3",
   "version": "3.7.1"
  }
 },
 "nbformat": 4,
 "nbformat_minor": 2
}
