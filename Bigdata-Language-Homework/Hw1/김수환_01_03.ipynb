{
 "cells": [
  {
   "cell_type": "markdown",
   "metadata": {},
   "source": [
    "# 김수환 01 03\n",
    "\n",
    "광운대학교 전자통신공학과   2014707073 김수환    Homework1 3번 문제"
   ]
  },
  {
   "cell_type": "code",
   "execution_count": 1,
   "metadata": {},
   "outputs": [],
   "source": [
    "def str_to_sentence(s):\n",
    "    start=0      # 저장할 str의 시작 index\n",
    "    end=0        # 저장할 str의 끝 index\n",
    "    newS=\"\"      # str 타입으로 \"\"로 초기화 및 선언\n",
    "    data_list=[] # return 할 list 타입 초기화 및 선언\n",
    "    \n",
    "    for i in range(0,len(s),1) :   # s크기만큼 반복\n",
    "        if(s[i] == '.' or s[i] == '!' or s[i] == '?'): # 만약 '.' '?' '!' 라면\n",
    "            start+=1                 # start를 하나 증가하고,\n",
    "            data_list.append(newS)   # 여태까지 newS에 추가해놓은 문자열을 data_list에 저장한다\n",
    "            newS=\"\"                  # 저장을 했으므로 newS는 \"\"로 초기화한다\n",
    "            continue;\n",
    "        elif i==len(s)-1 :           # 마지막 반복이라면,\n",
    "            data_list.append(newS)   # newS에 저장한 것을 추가하고 \n",
    "            break                    # break\n",
    "        else:                                  # '.' '?' '!' 가 아니라면\n",
    "            end=i                              # 저장할 str의 끝을 end에 저장하고\n",
    "            for j in range(start,end+1,1):     # s의 index 중 start~end를 반복하여\n",
    "                newS+=s[j]                     # newS에 추가한다\n",
    "            start=end+1                        # start를 하나 증가한다\n",
    "            \n",
    "    return data_list  "
   ]
  },
  {
   "cell_type": "markdown",
   "metadata": {},
   "source": [
    "문자열을 '.','?','!' (마침표들) 기준으로 문장별로 끊어서 list형태로 저장"
   ]
  },
  {
   "cell_type": "code",
   "execution_count": 2,
   "metadata": {},
   "outputs": [],
   "source": [
    "def change_to_space(data_list):\n",
    "    space_list=[]    # return할 space_list 초기화 및 선언\n",
    "    \n",
    "    for i in range(0,len(data_list),1): # 문장 개수만큼 반복\n",
    "        s=data_list[i]                  # 현재 진행하는 문장 일단 저장 -> for문이 반복될때마다 초기화 해야되므로 for문 안에 선언\n",
    "        for j in range(0,len(s),1):          # 현재 문장의 크기만큼 반복\n",
    "            if ord(s[j]) < 65 or (ord(s[j]) > 90 and ord(s[j]) < 97) or ord(s[j]) > 122 : # 알파벳 범위의 아스키 코드가 아니라면\n",
    "                s=s.replace(s[j],' ')  # 해당 문자를 공백으로 변경한다\n",
    "        space_list.append(s)           # 알파벳이 아닌 문자를 공백으로 변경한 문장을 space_list에 추가한다\n",
    "    return space_list"
   ]
  },
  {
   "cell_type": "markdown",
   "metadata": {},
   "source": [
    "알파벳을 제외한 문자들을 공백으로 변경"
   ]
  },
  {
   "cell_type": "code",
   "execution_count": 3,
   "metadata": {},
   "outputs": [],
   "source": [
    "def split_by_space(data_list):     \n",
    "    split_list=[]                            # 공백 기준으로 분리할 list 초기화 및 선언\n",
    "    for i in range(0,len(data_list),1):  # 문장 개수만큼 반복\n",
    "        s=data_list[i]         # 현재 문장 저장\n",
    "        s=s.split(' ')         # 현재 문장 공백 기준으로 split (단어별로 저장)\n",
    "        split_list.append(s)   # 분리한 단어 split_list에 추가\n",
    "    \n",
    "    return split_list"
   ]
  },
  {
   "cell_type": "markdown",
   "metadata": {},
   "source": [
    "문자열을 공백 기준으로 분리해서 list 형식으로 저장"
   ]
  },
  {
   "cell_type": "code",
   "execution_count": 4,
   "metadata": {},
   "outputs": [],
   "source": [
    "def check_copy(original,compare):\n",
    "    detect_list=[] # 최종적으로 return 할 list\n",
    "    jump_i=0        # 중복적으로 검사하는 것을 방지하기 위해\n",
    "    jump_j=0\n",
    "    \n",
    "    for ii in range(0,len(original),1): # original 문장 개수만큼 반복\n",
    "        jump_i=0\n",
    "        for jj in range(0,len(compare),1) :       # compare 문장 개수만큼 반복\n",
    "            jump_j=0\n",
    "            for i in range(0,len(original[ii]),1): # 문장의 단어 개수만큼 반복\n",
    "                if i < jump_i :  # 중복적으로 검사하는 것을 방지하기 위함\n",
    "                    continue    # 넘어감\n",
    "                \n",
    "                copy_list=[]         # copy_list 초기화\n",
    "                for j in range(0,len(compare[jj]),1) : # 문장의 단어 개수만큼 반복\n",
    "                    if j < jump_j :\n",
    "                        continue\n",
    "                    \n",
    "                    if original[ii][i] == compare[jj][j] :     # 같은 단어가 나온다면,\n",
    "                        copy_list.append(original[ii][i])    # 단어를 copy_list에 추가하고\n",
    "                        k=1\n",
    "                        while True :  # 같은 단어가 안 나올 때까지 반복\n",
    "                            if i+k >= len(original[ii]) or j+k >= len(compare[jj]) : # 문장 범위를 넘지않게 마지막 index에서는 멈추게 한다\n",
    "                                break\n",
    "                            if original[ii][i+k] == compare[jj][j+k] :        # 또 같은 단어가 나오면\n",
    "                                copy_list.append(original[ii][i+k])       # copy_list에 추가한다\n",
    "                                k+=1 # 하나하나 다음 단어와 비교하기 위한 변수\n",
    "                            else :\n",
    "                                break  # 다른 단어가 나오게 되면 break\n",
    "                            \n",
    "\n",
    "                if len(copy_list) > 3 :            # 크기가 4 이상이라면\n",
    "                    detect_list.append(copy_list)   # 최종 list에 추가한다\n",
    "                    jump_i=i+len(copy_list) # 지금 검사한 index i에 copy_list 크기를 더하면\n",
    "                    jump_j=j+len(copy_list)\n",
    "                                            # 다음에 검사할 list의 index가 된다\n",
    "    return detect_list"
   ]
  },
  {
   "cell_type": "markdown",
   "metadata": {},
   "source": [
    "단어가 4개이상 겹치는지를 판별하여 4개이상 겹치는 문장들을 저장하여 list 형식으로 return "
   ]
  },
  {
   "cell_type": "code",
   "execution_count": 5,
   "metadata": {},
   "outputs": [],
   "source": [
    "def list_to_str(data_list) :\n",
    "    s=\"\"\n",
    "    for i in range(0,len(data_list),1):\n",
    "        s+=\"\\n\"+str(i+1)+\" \"\n",
    "        for j in range(0,len(data_list[i]),1):\n",
    "            s+=(data_list[i][j]+\" \")\n",
    "\n",
    "    return s"
   ]
  },
  {
   "cell_type": "markdown",
   "metadata": {},
   "source": [
    "list 형식으로 저장한 겹치는 문장들을 사람이 보기 편하도록\n",
    "문자열 형식으로 저장하여 return 하는 함수"
   ]
  },
  {
   "cell_type": "markdown",
   "metadata": {},
   "source": [
    "# MainEntry\n",
    "\n",
    "위에 정의한 함수들을 토대로 문장 검사를 실행하는 부분"
   ]
  },
  {
   "cell_type": "code",
   "execution_count": 6,
   "metadata": {},
   "outputs": [
    {
     "name": "stdout",
     "output_type": "stream",
     "text": [
      "\n",
      "【비교문장\n",
      "\n",
      "“hey~~~ there!hi, how are you now I am\n",
      "fine, and you? I am good, too and I have never been better too.” \n",
      "“hey~~~ there!hi, how are you now and I am\n",
      "fine, and you? I am good, too and I have been better too.”\n",
      "\n",
      "【실행결과\n",
      "\n",
      "1  hey    there    \n",
      "2     \n",
      "3 I am fine  and you \n",
      "4     \n",
      "5   too and I have \n",
      "6       \n"
     ]
    }
   ],
   "source": [
    "text1=open('c:/app/d1.txt','r') # 텍스트 저장\n",
    "text2=open('c:/app/d2.txt','r') # 텍스트 저장\n",
    "\n",
    "str1=text1.read() # text to str\n",
    "str2=text2.read() # text to str\n",
    "\n",
    "text1.close() # fclose\n",
    "text2.close() # fclose\n",
    "\n",
    "print(\"\\n【비교문장\\n\")\n",
    "\n",
    "data_list1=str_to_sentence(str1) # 문자열을 '.' '?' '!' 기준으로 끊어서 저장\n",
    "data_list2=str_to_sentence(str2) # 문자열을 '.' '?' '!' 기준으로 끊어서 저장\n",
    "\n",
    "print(str1)\n",
    "print(str2)\n",
    "\n",
    "data_list1=change_to_space(data_list1) # 알파벳을 제외한 문자들을 공백으로 변경\n",
    "data_list2=change_to_space(data_list2) # 알파벳을 제외한 문자들을 공백으로 변경\n",
    "\n",
    "data_list1=split_by_space(data_list1) # 공백을 기준으로 단어 단위로 저장\n",
    "data_list2=split_by_space(data_list2) # 공백을 기준으로 단어 단위로 저장\n",
    "\n",
    "copy_list=check_copy(data_list1,data_list2) # 2개의 문장을 비교하여 4단어 이상 연속된 단어들을\n",
    "                                            # 연속된 단어별로 끊어서 저장\n",
    "                                            # ~~1~~ that ~~2~~ 이라면 [[1],[2]] 와 같은 형식으로 저장\n",
    "\n",
    "s=list_to_str(copy_list) # list 형식으로 되어있는 copy_list를 보기 편한 문자열로 변경 \n",
    "print(\"\\n【실행결과\")\n",
    "print(s) "
   ]
  },
  {
   "cell_type": "code",
   "execution_count": null,
   "metadata": {},
   "outputs": [],
   "source": []
  },
  {
   "cell_type": "code",
   "execution_count": null,
   "metadata": {},
   "outputs": [],
   "source": []
  }
 ],
 "metadata": {
  "kernelspec": {
   "display_name": "Python 3",
   "language": "python",
   "name": "python3"
  },
  "language_info": {
   "codemirror_mode": {
    "name": "ipython",
    "version": 3
   },
   "file_extension": ".py",
   "mimetype": "text/x-python",
   "name": "python",
   "nbconvert_exporter": "python",
   "pygments_lexer": "ipython3",
   "version": "3.7.1"
  }
 },
 "nbformat": 4,
 "nbformat_minor": 2
}
