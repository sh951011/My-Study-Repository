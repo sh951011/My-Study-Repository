{
 "cells": [
  {
   "cell_type": "markdown",
   "metadata": {},
   "source": [
    "# 김수환 01 01\n",
    "\n",
    "광운대학교 전자통신공학과 2014707073 김수환 Homework1 1번 문제"
   ]
  },
  {
   "cell_type": "code",
   "execution_count": 3,
   "metadata": {},
   "outputs": [],
   "source": [
    "def get_prime_number(begin,end):\n",
    "    pNum=[];\n",
    "    for i in range(begin,end,1): # begin부터 end-1까지 수를 검사\n",
    "        isPrime=True\n",
    "        for j in range(i-1,1,-1):  # 자기-1부터 2까지 나눠서 떨어지지 않으면\n",
    "            if i%j==0:\n",
    "                isPrime=False\n",
    "        if isPrime==True:\n",
    "            pNum.append(i)\n",
    "    \n",
    "    return pNum;"
   ]
  },
  {
   "cell_type": "code",
   "execution_count": 5,
   "metadata": {},
   "outputs": [
    {
     "name": "stdout",
     "output_type": "stream",
     "text": [
      "START : 10\n",
      "END : 60\n",
      "[11, 13, 17, 19, 23, 29, 31, 37, 41, 43, 47, 53, 59]\n"
     ]
    }
   ],
   "source": [
    "start=input(\"START : \")\n",
    "end=input(\"END : \")\n",
    "pNum=get_prime_number(int(start),int(end))\n",
    "print(pNum)"
   ]
  },
  {
   "cell_type": "code",
   "execution_count": null,
   "metadata": {},
   "outputs": [],
   "source": []
  }
 ],
 "metadata": {
  "kernelspec": {
   "display_name": "Python 3",
   "language": "python",
   "name": "python3"
  }
 },
 "nbformat": 4,
 "nbformat_minor": 2
}
