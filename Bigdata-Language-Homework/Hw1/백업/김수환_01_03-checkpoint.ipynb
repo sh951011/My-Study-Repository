{
 "cells": [
  {
   "cell_type": "code",
   "execution_count": 8,
   "metadata": {},
   "outputs": [],
   "source": [
    "def changeToSpace(s):\n",
    "    s=s.replace('?',' ')\n",
    "    s=s.replace('!',' ')\n",
    "    s=s.replace('.',' ')\n",
    "    s=s.replace(',',' ')\n",
    "\n",
    "    return s"
   ]
  },
  {
   "cell_type": "code",
   "execution_count": 2,
   "metadata": {},
   "outputs": [],
   "source": [
    "def strToList(s):\n",
    "    data_list=s.split(' ')\n",
    "    return data_list"
   ]
  },
  {
   "cell_type": "code",
   "execution_count": 3,
   "metadata": {},
   "outputs": [],
   "source": [
    "def checkCopy(original,compare):\n",
    "    final_list=[]\n",
    "    memory=0\n",
    "\n",
    "    for i in range(0,len(original),1):\n",
    "        if i < memory :\n",
    "            continue\n",
    "        copy_list=[]\n",
    "        for j in range(0,len(compare),1):\n",
    "            if original[i] == compare[j] :\n",
    "                copy_list.append(original[i])\n",
    "                equal=True\n",
    "                k=1\n",
    "                while True :\n",
    "                    if original[i+k] == compare[j+k] :        \n",
    "                        copy_list.append(original[i+k])\n",
    "                        k+=1\n",
    "                    else :\n",
    "                        equal=False\n",
    "                        break;\n",
    "                    if i+k == len(original) or j+k == len(compare) :\n",
    "                        break;\n",
    "\n",
    "        if len(copy_list) > 3 :\n",
    "            final_list.append(copy_list)\n",
    "            memory=i+len(copy_list)\n",
    "\n",
    "    return final_list"
   ]
  },
  {
   "cell_type": "code",
   "execution_count": 10,
   "metadata": {},
   "outputs": [
    {
     "name": "stdout",
     "output_type": "stream",
     "text": [
      "\n",
      "【비교문장\n",
      "\n",
      "The Jupyter Notebook is an open-source web application that allows you to create and share documents\n",
      "The Jupyter Notebook is an open-source web application, which allows you to create and share documents?\n",
      "['The', 'Jupyter', 'Notebook', 'is', 'an', 'open-source', 'web', 'application', 'that', 'allows', 'you', 'to', 'create', 'and', 'share', 'documents']\n",
      "['The', 'Jupyter', 'Notebook', 'is', 'an', 'open-source', 'web', 'application', '', 'which', 'allows', 'you', 'to', 'create', 'and', 'share', 'documents', '']\n",
      "\n",
      "【실행결과\n",
      "\n",
      "['The', 'Jupyter', 'Notebook', 'is', 'an', 'open-source', 'web', 'application']\n",
      "['allows', 'you', 'to', 'create', 'and', 'share', 'documents']\n"
     ]
    }
   ],
   "source": [
    "text1=open('c:/app/d1.txt','r')\n",
    "text2=open('c:/app/d2.txt','r')\n",
    "\n",
    "str1=text1.read() # text to str\n",
    "str2=text2.read() # text to str\n",
    "\n",
    "print(\"\\n【비교문장\\n\")\n",
    "print(str1)\n",
    "print(str2)\n",
    "\n",
    "str1=changeToSpace(str1)\n",
    "str2=changeToSpace(str2)\n",
    "\n",
    "list1=strToList(str1)\n",
    "list2=strToList(str2)\n",
    "\n",
    "print(list1)\n",
    "print(list2)\n",
    "\n",
    "data_list=checkCopy(list1,list2)\n",
    "\n",
    "print(\"\\n【실행결과\\n\")\n",
    "for i in range(0,len(data_list),1):\n",
    "    print(data_list[i])\n"
   ]
  },
  {
   "cell_type": "code",
   "execution_count": null,
   "metadata": {},
   "outputs": [],
   "source": []
  },
  {
   "cell_type": "code",
   "execution_count": null,
   "metadata": {},
   "outputs": [],
   "source": []
  }
 ],
 "metadata": {
  "kernelspec": {
   "display_name": "Python 3",
   "language": "python",
   "name": "python3"
  },
  "language_info": {
   "codemirror_mode": {
    "name": "ipython",
    "version": 3
   },
   "file_extension": ".py",
   "mimetype": "text/x-python",
   "name": "python",
   "nbconvert_exporter": "python",
   "pygments_lexer": "ipython3",
   "version": "3.7.1"
  }
 },
 "nbformat": 4,
 "nbformat_minor": 2
}
