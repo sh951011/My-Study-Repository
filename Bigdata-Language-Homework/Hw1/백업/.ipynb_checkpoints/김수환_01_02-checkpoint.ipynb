{
 "cells": [
  {
   "cell_type": "markdown",
   "metadata": {},
   "source": [
    "# 김수환 01 02\n",
    "\n",
    "광운대학교 전자통신공학과 2014707073 김수환 Homework1 2번 문제"
   ]
  },
  {
   "cell_type": "code",
   "execution_count": 1,
   "metadata": {},
   "outputs": [],
   "source": [
    "def parse_list(str_x,str_y):\n",
    "    data_list=[]\n",
    "    for i in range(0,len(str_x),1):\n",
    "        data_list.append([int(str_x[i]),int(str_y[i])])\n",
    "    return data_list"
   ]
  },
  {
   "cell_type": "code",
   "execution_count": 2,
   "metadata": {},
   "outputs": [],
   "source": [
    "def get_corr_coef(data_list):\n",
    "    length=len(data_list)\n",
    "    xSum=0\n",
    "    ySum=0\n",
    "    xAverage=0.0\n",
    "    yAverage=0.0\n",
    "    numerator=0.0\n",
    "    denominator=0.0\n",
    "    sX=0.0\n",
    "    sY=0.0\n",
    "    \n",
    "    for i in range (0,length,1):\n",
    "        xSum=data_list[i][0]\n",
    "        ySum=data_list[i][1]\n",
    "    \n",
    "    xAverage=xSum/length\n",
    "    yAverage=ySum/length\n",
    "    \n",
    "    for i in range(0,length,1):\n",
    "        numerator+=(data_list[i][0]-xAverage)*(data_list[i][1]-yAverage)\n",
    "        sX+=(data_list[i][0]-xAverage)**2\n",
    "        sY+=(data_list[i][1]-yAverage)**2\n",
    "    \n",
    "    denominator=(sX*sY)**(0.5)\n",
    "    \n",
    "    return (numerator/denominator)"
   ]
  },
  {
   "cell_type": "code",
   "execution_count": 3,
   "metadata": {},
   "outputs": [
    {
     "name": "stdout",
     "output_type": "stream",
     "text": [
      "str_x : 10,20,30\n",
      "str_y : 100,200,300\n",
      "1.0\n"
     ]
    }
   ],
   "source": [
    "str_x=input(\"str_x : \")\n",
    "str_x=str_x.split(',')\n",
    "str_y=input(\"str_y : \")\n",
    "str_y=str_y.split(',')\n",
    "data_list=parse_list(str_x,str_y)\n",
    "coef=get_corr_coef(data_list)\n",
    "print(coef)"
   ]
  },
  {
   "cell_type": "markdown",
   "metadata": {},
   "source": [
    "# TEST"
   ]
  },
  {
   "cell_type": "code",
   "execution_count": null,
   "metadata": {},
   "outputs": [],
   "source": []
  }
 ],
 "metadata": {
  "kernelspec": {
   "display_name": "Python 3",
   "language": "python",
   "name": "python3"
  },
  "language_info": {
   "codemirror_mode": {
    "name": "ipython",
    "version": 3
   },
   "file_extension": ".py",
   "mimetype": "text/x-python",
   "name": "python",
   "nbconvert_exporter": "python",
   "pygments_lexer": "ipython3",
   "version": "3.7.1"
  }
 },
 "nbformat": 4,
 "nbformat_minor": 2
}
