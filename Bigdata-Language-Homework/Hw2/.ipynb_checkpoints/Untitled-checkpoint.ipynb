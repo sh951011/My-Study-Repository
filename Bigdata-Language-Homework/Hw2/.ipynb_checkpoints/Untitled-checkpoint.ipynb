{
 "cells": [
  {
   "cell_type": "code",
   "execution_count": 1,
   "metadata": {},
   "outputs": [],
   "source": [
    "def split_pop(pop_read):\n",
    "    splited=[]\n",
    "    \n",
    "    pop_split_line = pop_read.split('\\n')\n",
    "\n",
    "    for i in range(len(pop_split_line)):\n",
    "         splited.append(pop_split_line[i].split(','))\n",
    "    splited = np.array(splited)\n",
    "    return splited"
   ]
  },
  {
   "cell_type": "markdown",
   "metadata": {},
   "source": [
    "* '\\n'으로 쪼갠 뒤, '\\n'으로 쪼갠 문자열을 ','로 쪼개는 함수"
   ]
  },
  {
   "cell_type": "code",
   "execution_count": 2,
   "metadata": {},
   "outputs": [],
   "source": [
    "def div_ingredient(splited):\n",
    "    gender_data = []\n",
    "    age_data = []\n",
    "    education_data = []\n",
    "    \n",
    "    for i in range(len(splited)-1): \n",
    "        gender_data.append(int(splited[i][0]))\n",
    "        age_data.append(int(splited[i][1]))\n",
    "        education_data.append(int(splited[i][2]))\n",
    "        \n",
    "    return np.array(gender_data), np.array(age_data), np.array(education_data)"
   ]
  },
  {
   "cell_type": "markdown",
   "metadata": {},
   "source": [
    "* 쪼개진 리스트를 이용해 성별 나이 교육정도의 3가지 리스트로 나눠서 저장하는 함수\n",
    "\n",
    "for문에서 len(splited)-1을 해준 이유는 print로 len(splited)을 찍어봤더니 413917이 나오고   \n",
    "실제 엑셀파일은 413916까지 항목이 저장되어 있길래 -1을 해줬음"
   ]
  },
  {
   "cell_type": "code",
   "execution_count": 37,
   "metadata": {},
   "outputs": [],
   "source": [
    "def cal_ratio(data1, data2):\n",
    "    sum1 = np.count_nonzero(data1)\n",
    "    sum2 = np.count_nonzero(data2)\n",
    "    \n",
    "    return round((sum1)/(sum1+sum2),2)"
   ]
  },
  {
   "cell_type": "markdown",
   "metadata": {},
   "source": [
    "* data1과 data2의 비율을 계산해주는 함수"
   ]
  },
  {
   "cell_type": "code",
   "execution_count": 54,
   "metadata": {},
   "outputs": [
    {
     "name": "stdout",
     "output_type": "stream",
     "text": [
      "\t\t남성\t여성\n",
      "10대이하        0.51    0.49\n",
      "10대            0.51    0.49\n",
      "20대            0.49    0.51\n",
      "30대            0.5     0.5\n",
      "40대            0.5     0.5\n",
      "50대            0.49    0.51\n",
      "60대 이상       0.44    0.56\n"
     ]
    }
   ],
   "source": [
    "def problem_1(gender_data, age_data):\n",
    "    male=1    # 엑셀파일로 male == 1\n",
    "    female=2  # 엑셀파일로 female == 2\n",
    "    \n",
    "    # boolean 타입으로 각 연령별로 True를 저장  \n",
    "    \n",
    "    underTenM = (age_data < 10) & (gender_data == male)\n",
    "    underTenFem = (age_data < 10) & (gender_data == female)\n",
    "    tenM = (age_data > 9) & (age_data < 20) & (gender_data == male)\n",
    "    tenFem = (age_data > 9) & (age_data < 20) & (gender_data == female)\n",
    "    twentyM = (age_data > 19) & (age_data < 30) & (gender_data == male)\n",
    "    twentyFem = (age_data > 19) & (age_data < 30) & (gender_data == female)\n",
    "    thirtyM = (age_data > 29) & (age_data < 40) & (gender_data == male)\n",
    "    thirtyFem = (age_data > 29) & (age_data < 40) & (gender_data == female)\n",
    "    fourtyM = (age_data > 39) & (age_data < 50) & (gender_data == male)\n",
    "    fourtyFem = (age_data > 39) & (age_data < 50) & (gender_data == female)\n",
    "    fiftyM = (age_data > 49) & (age_data < 60) & (gender_data == male)\n",
    "    fiftyFem = (age_data > 49) & (age_data < 60) & (gender_data == female)\n",
    "    overSixtyM = (age_data > 59) & (gender_data == male)\n",
    "    overSixtyFem = (age_data > 59) & (gender_data == female)\n",
    "    \n",
    "    print(\"\\t\\t남성\\t여성\")\n",
    "    print(\"10대이하       \",cal_ratio(underTenM,underTenFem),\"  \",cal_ratio(underTenFem,underTenM))\n",
    "    print(\"10대           \",cal_ratio(tenM,tenFem),\"  \",cal_ratio(tenFem,tenM))\n",
    "    print(\"20대           \",cal_ratio(twentyM,twentyFem),\"  \",cal_ratio(twentyFem,twentyM))\n",
    "    print(\"30대           \",cal_ratio(thirtyM,thirtyFem),\"   \",cal_ratio(thirtyFem,thirtyM))\n",
    "    print(\"40대           \",cal_ratio(fourtyM,fourtyFem),\"   \",cal_ratio(fourtyFem,fourtyM))\n",
    "    print(\"50대           \",cal_ratio(fiftyM,fiftyFem),\"  \",cal_ratio(fiftyFem,fiftyM))\n",
    "    print(\"60대 이상      \",cal_ratio(overSixtyM,overSixtyFem),\"  \",cal_ratio(overSixtyFem,overSixtyM))\n",
    "    \n",
    "    return"
   ]
  },
  {
   "cell_type": "markdown",
   "metadata": {},
   "source": [
    "# MainEntry"
   ]
  },
  {
   "cell_type": "code",
   "execution_count": 55,
   "metadata": {},
   "outputs": [
    {
     "name": "stdout",
     "output_type": "stream",
     "text": [
      "\t\t남성\t여성\n",
      "10대이하        0.51    0.49\n",
      "10대            0.51    0.49\n",
      "20대            0.49    0.51\n",
      "30대            0.5     0.5\n",
      "40대            0.5     0.5\n",
      "50대            0.49    0.51\n",
      "60대 이상       0.44    0.56\n"
     ]
    }
   ],
   "source": [
    "import numpy as np\n",
    "\n",
    "with open('population.csv','r') as pop_csv:\n",
    "    pop_read=pop_csv.read()\n",
    "    \n",
    "splited = split_pop(pop_read) # 성공\n",
    "gender_data, age_data, education_data = div_ingredient(splited) # 성공\n",
    "problem_1(gender_data, age_data)"
   ]
  },
  {
   "cell_type": "code",
   "execution_count": null,
   "metadata": {},
   "outputs": [],
   "source": []
  }
 ],
 "metadata": {
  "kernelspec": {
   "display_name": "Python 3",
   "language": "python",
   "name": "python3"
  },
  "language_info": {
   "codemirror_mode": {
    "name": "ipython",
    "version": 3
   },
   "file_extension": ".py",
   "mimetype": "text/x-python",
   "name": "python",
   "nbconvert_exporter": "python",
   "pygments_lexer": "ipython3",
   "version": "3.7.1"
  }
 },
 "nbformat": 4,
 "nbformat_minor": 2
}
