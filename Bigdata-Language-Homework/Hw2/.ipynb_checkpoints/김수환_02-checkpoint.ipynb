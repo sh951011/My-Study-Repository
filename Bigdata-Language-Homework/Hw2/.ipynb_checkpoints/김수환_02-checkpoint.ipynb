{
 "cells": [
  {
   "cell_type": "markdown",
   "metadata": {},
   "source": [
    "# 김수환 02\n",
    "\n",
    "광운대학교 전자통신공학과 2014707073 김수환 빅데이터언어 Homework2"
   ]
  },
  {
   "cell_type": "code",
   "execution_count": 46,
   "metadata": {},
   "outputs": [],
   "source": [
    "# numpy array type으로 쪼갠 데이터를 \n",
    "# 성별, 나이, 교육정도의 카테고리로 나눠주는 함수\n",
    "def div_ingredient(load):    \n",
    "    gender_data = load[:,0]\n",
    "    age_data = load[:,1]\n",
    "    edu_data = load[:,2]\n",
    "    \n",
    "    # 나눠준 데이터를 ndarray type으로 형변환하여 return\n",
    "    return gender_data, age_data, edu_data "
   ]
  },
  {
   "cell_type": "markdown",
   "metadata": {},
   "source": [
    "* 쪼개진 리스트를 이용해 성별 나이 교육정도의 3가지 리스트로 나눠서 저장하는 함수\n",
    "\n",
    "for문에서 len(splited)-1을 해준 이유는 print로 len(splited)을 찍어봤더니 413917이 나오고   \n",
    "실제 엑셀파일은 413916까지 항목이 저장되어 있길래 -1을 해줬음"
   ]
  },
  {
   "cell_type": "code",
   "execution_count": 12,
   "metadata": {},
   "outputs": [],
   "source": [
    "# 문제 1번에 필요한 계산을 해주는 함수\n",
    "def cal_ratio(data1, data2):\n",
    "    # ndarray type의 True 개수를 count 해주는 함수 사용\n",
    "    sum1 = np.count_nonzero(data1) \n",
    "    # ndarray type의 True 개수를 count 해주는 함수 사용\n",
    "    sum2 = np.count_nonzero(data2) \n",
    "    \n",
    "    # 소수점 2째자리까지 반올림해서 계산 후 return\n",
    "    return round((sum1)/(sum1+sum2),2) "
   ]
  },
  {
   "cell_type": "markdown",
   "metadata": {},
   "source": [
    "* data1과 data2의 비율을 계산해주는 함수\n",
    "  \n",
    "numpy array tupe의 True 개수를 count 하는 일반적인 방법인 np.count_nonzero()를 사용  \n",
    "그리고 깔끔하게 소수점 2째자리까지만 출력하기 위해 round()함수 사용  "
   ]
  },
  {
   "cell_type": "code",
   "execution_count": 13,
   "metadata": {},
   "outputs": [],
   "source": [
    "def problem_1(gender_data, age_data):\n",
    "    man=1    # 엑셀파일로 man == 1\n",
    "    wom=2  # 엑셀파일로 fem == 2\n",
    "    \n",
    "    # ndarray 타입 특유의 boolean indexing 기법으로 각 카테고리 별로 저장 \n",
    "    \n",
    "    man_10_und = (age_data < 10) & (gender_data == man)\n",
    "    wom_10_und = (age_data < 10) & (gender_data == wom)\n",
    "    man_10 = (age_data > 9) & (age_data < 20) & (gender_data == man)\n",
    "    wom_10 = (age_data > 9) & (age_data < 20) & (gender_data == wom)\n",
    "    man_20 = (age_data > 19) & (age_data < 30) & (gender_data == man)\n",
    "    wom_20 = (age_data > 19) & (age_data < 30) & (gender_data == wom)\n",
    "    man_30 = (age_data > 29) & (age_data < 40) & (gender_data == man)\n",
    "    wom_30 = (age_data > 29) & (age_data < 40) & (gender_data == wom)\n",
    "    man_40 = (age_data > 39) & (age_data < 50) & (gender_data == man)\n",
    "    wom_40 = (age_data > 39) & (age_data < 50) & (gender_data == wom)\n",
    "    man_50 = (age_data > 49) & (age_data < 60) & (gender_data == man)\n",
    "    wom_50 = (age_data > 49) & (age_data < 60) & (gender_data == wom)\n",
    "    man_60_up = (age_data > 59) & (gender_data == man)\n",
    "    wom_60_up = (age_data > 59) & (gender_data == wom)\n",
    "    \n",
    "    # 과제 형식에 맞게 계산 및 print\n",
    "    \n",
    "    print(\"## Problem1\\n\")\n",
    "    print(\"\\t\\t남성\\t여성\")\n",
    "    print(\"10대 이하      \",cal_ratio(man_10_und,wom_10_und),\"  \",cal_ratio(wom_10_und,man_10_und))\n",
    "    print(\"10대           \",cal_ratio(man_10,wom_10),\"  \",cal_ratio(wom_10,man_10))\n",
    "    print(\"20대           \",cal_ratio(man_20,wom_20),\"  \",cal_ratio(wom_20,man_20))\n",
    "    print(\"30대           \",cal_ratio(man_30,wom_30),\"   \",cal_ratio(wom_30,man_30))\n",
    "    print(\"40대           \",cal_ratio(man_40,wom_40),\"   \",cal_ratio(wom_40,man_40))\n",
    "    print(\"50대           \",cal_ratio(man_50,wom_50),\"  \",cal_ratio(wom_50,man_50))\n",
    "    print(\"60대 이상      \",cal_ratio(man_60_up,wom_60_up),\"  \",cal_ratio(wom_60_up,man_60_up),\"\\n\")"
   ]
  },
  {
   "cell_type": "markdown",
   "metadata": {},
   "source": [
    "* 과제 1번을 수행하는 함수\n",
    "  \n",
    "numpy array 타입 특유의 boolean indexing 기법으로 각 카테고리 별로 저장하고  \n",
    "미리 만들어 둔 cal_ratio(data1,data2) 함수를 이용하여 값을 계산해서 print 해준다.  "
   ]
  },
  {
   "cell_type": "code",
   "execution_count": 14,
   "metadata": {},
   "outputs": [],
   "source": [
    "# 문제 2번에 필요한 계산을 해주는 함수\n",
    "def cal_ratio_2(numerator, denominator):\n",
    "    # numpy array type의 True 개수를 count 해주는 함수 사용\n",
    "    numerator_sum = np.count_nonzero(numerator) \n",
    "    # numpy array type의 True 개수를 count 해주는 함수 사용\n",
    "    denominator_sum = np.count_nonzero(denominator) \n",
    "    \n",
    "    # 소수점 2째 자리까지만 계산해서 return\n",
    "    return round(numerator_sum / denominator_sum, 2)"
   ]
  },
  {
   "cell_type": "code",
   "execution_count": 74,
   "metadata": {},
   "outputs": [],
   "source": [
    "def problem_2(gender_data, age_data, edu_data):\n",
    "    man=1    # 엑셀파일로 man == 1\n",
    "    wom=2  # 엑셀파일로 wom == 2\n",
    "    # 5이상부터 대학 진학이므로 4로 기준을 정함  \n",
    "    criteria = 4  \n",
    "    \n",
    "    # 교육정도는 고려 안한 분류\n",
    "    \n",
    "    man_20 = (age_data > 19) & (age_data < 30) & (gender_data == man)\n",
    "    wom_20 = (age_data > 19) & (age_data < 30) & (gender_data == wom)\n",
    "    man_30 = (age_data > 29) & (age_data < 40) & (gender_data == man)\n",
    "    wom_30 = (age_data > 29) & (age_data < 40) & (gender_data == wom)\n",
    "    man_40 = (age_data > 39) & (age_data < 50) & (gender_data == man)\n",
    "    wom_40 = (age_data > 39) & (age_data < 50) & (gender_data == wom)\n",
    "    man_50 = (age_data > 49) & (age_data < 60) & (gender_data == man)\n",
    "    wom_50 = (age_data > 49) & (age_data < 60) & (gender_data == wom)\n",
    "    man_60_up = (age_data > 59) & (gender_data == man)\n",
    "    wom_60_up = (age_data > 59) & (gender_data == wom)\n",
    "    \n",
    "    # 교육정도까지 고려한 분류 \n",
    "    \n",
    "    uni_man_20 = man_20 & (edu_data > criteria)\n",
    "    uni_wom_20 = wom_20 & (edu_data > criteria)\n",
    "    uni_man_30 = man_30 & (edu_data > criteria)\n",
    "    uni_wom_30 = wom_30 & (edu_data > criteria)\n",
    "    uni_man_40 = man_40 & (edu_data > criteria)\n",
    "    uni_wom_40 = wom_40 & (edu_data > criteria)\n",
    "    uni_man_50 = man_50 & (edu_data > criteria)\n",
    "    uni_wom_50 = wom_50 & (edu_data > criteria)\n",
    "    uni_man_60_up = man_60_up & (edu_data > criteria)\n",
    "    uni_wom_60_up = wom_60_up & (edu_data > criteria)\n",
    "    \n",
    "    print(\"## Problem2\\n\")\n",
    "    print(\"\\t\\t남성\\t여성\\t전체\")\n",
    "    print(\"20대           \",cal_ratio_2(uni_man_20, man_20),\"  \",cal_ratio_2(uni_wom_20, wom_20),\n",
    "          \"  \", cal_ratio_2(uni_man_20 | uni_wom_20, man_20 | wom_20))\n",
    "    print(\"30대           \",cal_ratio_2(uni_man_30, man_30),\"  \",cal_ratio_2(uni_wom_30, wom_30)\n",
    "         , \"  \",cal_ratio_2(uni_man_30 | uni_wom_30, man_30 | wom_30))\n",
    "    print(\"40대           \",cal_ratio_2(uni_man_40, man_40),\"  \",cal_ratio_2(uni_wom_40, wom_40)\n",
    "         , \"  \",cal_ratio_2(uni_man_40 | uni_wom_40, man_40 | wom_40))\n",
    "    print(\"50대           \",cal_ratio_2(uni_man_50, man_50),\"  \",cal_ratio_2(uni_wom_50, wom_50)\n",
    "         , \"  \",cal_ratio_2(uni_man_50 | uni_wom_50, man_50 | wom_50))\n",
    "    print(\"60대 이상      \",cal_ratio_2(uni_man_60_up, man_60_up),\"  \",cal_ratio_2(uni_wom_60_up, wom_60_up)\n",
    "         , \"  \",cal_ratio_2(uni_man_60_up | uni_wom_60_up, man_60_up | wom_60_up))"
   ]
  },
  {
   "cell_type": "markdown",
   "metadata": {},
   "source": [
    "# MainEntry"
   ]
  },
  {
   "cell_type": "code",
   "execution_count": 75,
   "metadata": {
    "scrolled": false
   },
   "outputs": [
    {
     "name": "stdout",
     "output_type": "stream",
     "text": [
      "## Problem1\n",
      "\n",
      "\t\t남성\t여성\n",
      "10대 이하       0.51    0.49\n",
      "10대            0.51    0.49\n",
      "20대            0.49    0.51\n",
      "30대            0.5     0.5\n",
      "40대            0.5     0.5\n",
      "50대            0.49    0.51\n",
      "60대 이상       0.44    0.56 \n",
      "\n",
      "## Problem2\n",
      "\n",
      "\t\t남성\t여성\t전체\n",
      "20대            0.82    0.84    0.83\n",
      "30대            0.75    0.72    0.74\n",
      "40대            0.55    0.45    0.5\n",
      "50대            0.36    0.21    0.28\n",
      "60대 이상       0.18    0.05    0.11\n",
      "Wall time: 4.91 s\n"
     ]
    }
   ],
   "source": [
    "%%time\n",
    "import numpy as np\n",
    "\n",
    "# csv 파일 load\n",
    "load = np.loadtxt('population.csv',delimiter=',')\n",
    "# 성별, 나이, 교육정도 데이터 나누기\n",
    "gender_data,age_data,edu_data = div_ingredient(load)\n",
    "# 문제 1번\n",
    "problem_1(gender_data,age_data)\n",
    "#문제 2번\n",
    "problem_2(gender_data, age_data, edu_data)"
   ]
  },
  {
   "cell_type": "code",
   "execution_count": 7,
   "metadata": {},
   "outputs": [],
   "source": [
    "import numpy as np \n",
    "data = np.loadtxt(\"population.csv\", delimiter=\",\",dtype=np.int64) #넘파이로 받기"
   ]
  },
  {
   "cell_type": "code",
   "execution_count": 8,
   "metadata": {},
   "outputs": [
    {
     "name": "stdout",
     "output_type": "stream",
     "text": [
      "        남성  여성\n",
      "10under 0.51  0.49 \n",
      "10s     0.51  0.49 \n",
      "20s     0.49  0.51 \n",
      "30s     0.50  0.50 \n",
      "40s     0.50  0.50 \n",
      "50s     0.49  0.51 \n",
      "60over  0.44  0.56 \n",
      "        남성  여성  전체\n",
      "20s     0.82  0.84  0.83  \n",
      "30s     0.75  0.72  0.74  \n",
      "40s     0.55  0.45  0.50  \n",
      "50s     0.36  0.21  0.28  \n",
      "60over  0.18  0.05  0.11  \n",
      "Wall time: 25.7 s\n"
     ]
    }
   ],
   "source": [
    "%%time\n",
    "#1번\n",
    "l = np.array([[0,0,0,0,0,0,0,0,0,0,0,0,0,0],[10,20,30,40,50,60,1000,10,20,30,40,50,60,1000],[\"10under\",\"10s\",\"20s\",\"30s\",\"40s\",\"50s\",\"60over\"]])\n",
    "#print(l)  \n",
    "for i in data:\n",
    "    for j in range(len(l[0])):\n",
    "        if i[0] == (int(j/7))+1 and i[1:2] < l[1][j]: \n",
    "            l[0][j] = l[0][j] + 1\n",
    "            break #넘파이 인덱싱 및 슬라이싱\n",
    "\n",
    "print(\"%10s%4s\" %(\"남성\",\"여성\"))\n",
    "for i in range(len(l[2])): \n",
    "    print(\"%-8s%-6.2f%-5.2f\" %(l[2][i],l[0][i]/(l[0][i]+l[0][i+7]),l[0][i+7]/(l[0][i]+l[0][i+7]))) \n",
    "    \n",
    "#2번\n",
    "l2 = np.array([[0,0,0,0,0,0,0,0,0,0,0,0,0,0],[10,20,30,40,50,60,1000,10,20,30,40,50,60,1000],[\"20s\",\"30s\",\"40s\",\"50s\",\"60over\"]])\n",
    "for i in data :\n",
    "    for j in range(len(l2[0])):\n",
    "        if i[0] == (int(j/7))+1 and i[1:2] < l2[1][j] and i[2] >= 5: \n",
    "            l2[0][j] = l2[0][j] +1\n",
    "            break #넘파이 인덱싱 및 슬라이싱\n",
    "\n",
    "print(\"%10s%4s%4s\" %(\"남성\",\"여성\",\"전체\"))\n",
    "for i in range(len(l2[2])): \n",
    "    print(\"%-8s%-6.2f%-6.2f%-6.2f\" %(l2[2][i],l2[0][i+2]/l[0][i+2],l2[0][i+9]/l[0][i+9],(l2[0][i+2]+l2[0][i+9])/(l[0][i+2]+l[0][i+9])))"
   ]
  },
  {
   "cell_type": "code",
   "execution_count": 76,
   "metadata": {},
   "outputs": [],
   "source": [
    "import numpy as np\n",
    "load = np.loadtxt('population.csv',delimiter=',')"
   ]
  },
  {
   "cell_type": "code",
   "execution_count": 77,
   "metadata": {
    "scrolled": true
   },
   "outputs": [
    {
     "name": "stdout",
     "output_type": "stream",
     "text": [
      "## Problem1\n",
      "\n",
      "\t\t남성\t여성\n",
      "10대 이하       0.51    0.49\n",
      "10대            0.51    0.49\n",
      "20대            0.49    0.51\n",
      "30대            0.5     0.5\n",
      "40대            0.5     0.5\n",
      "50대            0.49    0.51\n",
      "60대 이상       0.44    0.56 \n",
      "\n",
      "## Problem2\n",
      "\n",
      "\t\t남성\t여성\t전체\n",
      "20대            0.82    0.84    0.83\n",
      "30대            0.75    0.72    0.74\n",
      "40대            0.55    0.45    0.5\n",
      "50대            0.36    0.21    0.28\n",
      "60대 이상       0.18    0.05    0.11\n",
      "Wall time: 108 ms\n"
     ]
    }
   ],
   "source": [
    "%%time\n",
    "\n",
    "# 성별, 나이, 교육정도 데이터 나누기\n",
    "gender_data,age_data,edu_data = div_ingredient(load)\n",
    "# 문제 1번\n",
    "problem_1(gender_data,age_data)\n",
    "#문제 2번\n",
    "problem_2(gender_data, age_data, edu_data)"
   ]
  },
  {
   "cell_type": "code",
   "execution_count": null,
   "metadata": {},
   "outputs": [],
   "source": []
  }
 ],
 "metadata": {
  "kernelspec": {
   "display_name": "Python 3",
   "language": "python",
   "name": "python3"
  },
  "language_info": {
   "codemirror_mode": {
    "name": "ipython",
    "version": 3
   },
   "file_extension": ".py",
   "mimetype": "text/x-python",
   "name": "python",
   "nbconvert_exporter": "python",
   "pygments_lexer": "ipython3",
   "version": "3.7.1"
  }
 },
 "nbformat": 4,
 "nbformat_minor": 2
}
