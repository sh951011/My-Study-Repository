{
 "cells": [
  {
   "cell_type": "code",
   "execution_count": 2,
   "metadata": {},
   "outputs": [
    {
     "name": "stdout",
     "output_type": "stream",
     "text": [
      "Wall time: 543 ms\n"
     ]
    }
   ],
   "source": [
    "%%time\n",
    "import torch\n",
    "import torch.nn as nn\n",
    "import torch.optim as optim\n",
    "import torch.nn.init as init\n",
    "import torchvision.datasets as dset\n",
    "import torchvision.transforms as transforms\n",
    "from torch.utils.data import DataLoader   #  모델을 학습하기 위해서는 지속적으로 데이터를 모델에 전달해야 함\n",
    "                                          #  또한 데이터를 하나씩 전달하지 않고 원하는 배치 사이즈대로 묶어서 전달하거나\n",
    "                                          #  더 효율적인 학습을 위해 데이터를 어떤 규칙에 따라 정렬하거나 섞거나 해야함\n",
    "                                          #  이런 역할을 해주는 것이 DataLoader 모듈"
   ]
  },
  {
   "cell_type": "code",
   "execution_count": 11,
   "metadata": {},
   "outputs": [],
   "source": [
    "batch_size     =   256\n",
    "learning_rate  =   0.0002\n",
    "num_epoch      =   10"
   ]
  },
  {
   "cell_type": "code",
   "execution_count": 12,
   "metadata": {},
   "outputs": [],
   "source": [
    "#  가로, 세로 길이 28의 숫자 이미지로 이루어진 데이터셋\n",
    "#  각 숫자는 0 ~ 9 까지 손으로 쓴 이미지\n",
    "\n",
    "mnist_train = dset.MNIST(\"./\", train = True, transform = transforms.ToTensor(),\n",
    "                        target_transform = None, download = True)\n",
    "mnist_test = dset.MNIST(\"./\", train = False, transform = transforms.ToTensor(),\n",
    "                       target_transform = None, download = True)\n",
    "\n",
    "# 셔플 여부 (shuffle), 데이터를 묶을 때 사용할 프로세스 개수 (num_workers), \n",
    "# 묶고 남는 데이터는 버릴지 여부 (drip_last) 등에 대한 설정\n",
    "\n",
    "train_loader = torch.utils.data.DataLoader(mnist_train, batch_size = batch_size,\n",
    "                                          shuffle = True, num_workers = 2, drop_last = True)\n",
    "test_loader = torch.utils.data.DataLoader(mnist_test, batch_size = batch_size,\n",
    "                                         shuffle = False, num_workers = 2, drop_last = True)"
   ]
  },
  {
   "cell_type": "code",
   "execution_count": 9,
   "metadata": {},
   "outputs": [
    {
     "data": {
      "text/plain": [
       "<torch.utils.data.dataloader.DataLoader at 0x287c5831d68>"
      ]
     },
     "execution_count": 9,
     "metadata": {},
     "output_type": "execute_result"
    }
   ],
   "source": [
    "train_loader"
   ]
  },
  {
   "cell_type": "code",
   "execution_count": 6,
   "metadata": {},
   "outputs": [
    {
     "data": {
      "text/plain": [
       "Dataset MNIST\n",
       "    Number of datapoints: 10000\n",
       "    Root location: ./\n",
       "    Split: Test\n",
       "    StandardTransform\n",
       "Transform: ToTensor()"
      ]
     },
     "execution_count": 6,
     "metadata": {},
     "output_type": "execute_result"
    }
   ],
   "source": [
    "mnist_test"
   ]
  },
  {
   "cell_type": "markdown",
   "metadata": {},
   "source": [
    "## CNN"
   ]
  },
  {
   "cell_type": "code",
   "execution_count": 1,
   "metadata": {},
   "outputs": [
    {
     "ename": "NameError",
     "evalue": "name 'nn' is not defined",
     "output_type": "error",
     "traceback": [
      "\u001b[1;31m---------------------------------------------------------------------------\u001b[0m",
      "\u001b[1;31mNameError\u001b[0m                                 Traceback (most recent call last)",
      "\u001b[1;32m<ipython-input-1-6406dacb83b0>\u001b[0m in \u001b[0;36m<module>\u001b[1;34m\u001b[0m\n\u001b[1;32m----> 1\u001b[1;33m \u001b[1;32mclass\u001b[0m \u001b[0mCNN\u001b[0m\u001b[1;33m(\u001b[0m\u001b[0mnn\u001b[0m\u001b[1;33m.\u001b[0m\u001b[0mModule\u001b[0m\u001b[1;33m)\u001b[0m\u001b[1;33m:\u001b[0m\u001b[1;33m\u001b[0m\u001b[1;33m\u001b[0m\u001b[0m\n\u001b[0m\u001b[0;32m      2\u001b[0m     \u001b[1;32mdef\u001b[0m \u001b[0m__init__\u001b[0m\u001b[1;33m(\u001b[0m\u001b[0mself\u001b[0m\u001b[1;33m)\u001b[0m\u001b[1;33m:\u001b[0m\u001b[1;33m\u001b[0m\u001b[1;33m\u001b[0m\u001b[0m\n\u001b[0;32m      3\u001b[0m         \u001b[1;31m#  CNN 클래스의 부모 클래스인 nn.Module을 초기화하는 역할\u001b[0m\u001b[1;33m\u001b[0m\u001b[1;33m\u001b[0m\u001b[1;33m\u001b[0m\u001b[0m\n\u001b[0;32m      4\u001b[0m         \u001b[0msuper\u001b[0m\u001b[1;33m(\u001b[0m\u001b[0mCNN\u001b[0m\u001b[1;33m,\u001b[0m \u001b[0mself\u001b[0m\u001b[1;33m)\u001b[0m\u001b[1;33m.\u001b[0m\u001b[0m__init__\u001b[0m\u001b[1;33m(\u001b[0m\u001b[1;33m)\u001b[0m\u001b[1;33m\u001b[0m\u001b[1;33m\u001b[0m\u001b[0m\n\u001b[0;32m      5\u001b[0m \u001b[1;33m\u001b[0m\u001b[0m\n",
      "\u001b[1;31mNameError\u001b[0m: name 'nn' is not defined"
     ]
    }
   ],
   "source": [
    "class CNN(nn.Module):\n",
    "    def __init__(self):\n",
    "        #  CNN 클래스의 부모 클래스인 nn.Module을 초기화하는 역할\n",
    "        super(CNN, self).__init__() \n",
    "        \n",
    "        '''\n",
    "        * nn.Conv2d()\n",
    "          in_channels   :   input 이미지의 채널 수\n",
    "                            => RGB라면 3\n",
    "          out_channels  :   convolution에 의해서 생성된 channel 수\n",
    "          \n",
    "          => Input  : [batch_size, in_channels, 가로, 세로]\n",
    "          => Output : [batch_size, out_channels, 가로, 세로] \n",
    "          \n",
    "          kernel_size   :  convolution_kenel의 크기. 보통의 filter라고 부름 \n",
    "          stride        :  convolution의 stride\n",
    "          padding       :  zero padding을 input을 양쪽에 인자 만큼 해준다\n",
    "        '''\n",
    "        \n",
    "        '''\n",
    "        * 이미지 크기 계산법 (Output)\n",
    "          O = floor( ( (1 - K + 2P) / S ) + 1 )\n",
    "          ★★★★★공식\n",
    "        \n",
    "          한 변의 크기 I == 28\n",
    "          필터의 크기 K == 5\n",
    "          패딩은 없으므로 P == 0\n",
    "          stride는 따로 설정 안 했으므로 default 값인 1\n",
    "          \n",
    "          ==> O == 24 라는 결과값 (이미지의 크기) 가 나오게 된다.\n",
    "        '''\n",
    "        \n",
    "        '''\n",
    "        * MaxPool2d()\n",
    "          kernel_size  :  풀링 연산을 할 때 한 번에 훑는 영역의 크기\n",
    "        '''\n",
    "        \n",
    "        self.layer = nn.Sequential(\n",
    "            nn.Conv2d(1,16,5),\n",
    "            nn.ReLU(),\n",
    "            nn.Conv2d(16,32,5),\n",
    "            nn.ReLU(),\n",
    "            nn.MaxPool2d(2,2),\n",
    "            \n",
    "            # [batch_size, 32, 20, 20] => [batch_size, 32, 10, 10]\n",
    "            \n",
    "            nn.Conv2d(32,64,5),\n",
    "            nn.ReLU(),\n",
    "            nn.MaxPool2d(2,2)\n",
    "            \n",
    "            # [batch_size, 32, 10, 10] => [batch_size, 32, 6, 6] => [batch_size, 64, 3, 3]\n",
    "        )\n",
    "        \n",
    "        # Linear 함수를 통해 뉴런의 수를 줄여나간다.\n",
    "        self.fc_layer = nn.Sequential(\n",
    "            nn.Linear(64*3*3, 100),\n",
    "            nn.ReLU(),\n",
    "            nn.Linear(100, 10)\n",
    "        )\n",
    "        # Output : [batch_size, 10] 형태의 텐서\n",
    "        \n",
    "    def forward(self, x):\n",
    "        out = self.layer(x)\n",
    "        out = out.view(batch_size, -1)  # 여기서 -1은 -1인 부분은 알아서 계산하라는 의미 (reshape()와 가틈)\n",
    "        out = self.fc_layer(out)\n",
    "        return out "
   ]
  },
  {
   "cell_type": "code",
   "execution_count": 14,
   "metadata": {},
   "outputs": [],
   "source": [
    "device = torch.device(\"cuda:0\" if torch.cuda.is_available() else \"cpu\")\n",
    "model = CNN().to(device)\n",
    "loss_func = nn.CrossEntropyLoss()\n",
    "optimizer = torch.optim.Adam(model.parameters(), lr = learning_rate) # SGD가 아닌 Adam 알고리즘 사용"
   ]
  },
  {
   "cell_type": "code",
   "execution_count": 18,
   "metadata": {},
   "outputs": [
    {
     "name": "stdout",
     "output_type": "stream",
     "text": [
      "tensor(2.3026, grad_fn=<NllLossBackward>)\n",
      "tensor(0.2125, grad_fn=<NllLossBackward>)\n",
      "tensor(0.1283, grad_fn=<NllLossBackward>)\n",
      "tensor(0.1081, grad_fn=<NllLossBackward>)\n",
      "tensor(0.0557, grad_fn=<NllLossBackward>)\n",
      "tensor(0.0558, grad_fn=<NllLossBackward>)\n",
      "tensor(0.0421, grad_fn=<NllLossBackward>)\n",
      "tensor(0.0320, grad_fn=<NllLossBackward>)\n",
      "tensor(0.0390, grad_fn=<NllLossBackward>)\n",
      "tensor(0.0297, grad_fn=<NllLossBackward>)\n"
     ]
    }
   ],
   "source": [
    "%%time\n",
    "loss_arr = []\n",
    "for i in range(num_epoch):\n",
    "    for j, [image,label] in enumerate(train_loader):\n",
    "        x = image.to(device)\n",
    "        y_ = label.to(device)\n",
    "        \n",
    "        optimizer.zero_grad()\n",
    "        output = model.forward(x)\n",
    "        loss = loss_func(output, y_)\n",
    "        loss.backward()\n",
    "        optimizer.step()\n",
    "        \n",
    "        if j % 1000 == 0:\n",
    "            print(loss)                                                \n",
    "            loss_arr.append(loss.cpu().detach().numpy())"
   ]
  },
  {
   "cell_type": "code",
   "execution_count": 24,
   "metadata": {},
   "outputs": [
    {
     "name": "stdout",
     "output_type": "stream",
     "text": [
      "Auucracy of Test Data: 98.89823913574219\n"
     ]
    }
   ],
   "source": [
    "correct = 0\n",
    "total = 0\n",
    "\n",
    "with torch.no_grad():\n",
    "    for image, label in test_loader:\n",
    "        x = image.to(device)\n",
    "        y_ = label.to(device)\n",
    "        \n",
    "        output = model.forward(x)\n",
    "        _,output_index = torch.max(output, 1)\n",
    "        \n",
    "        total += label.size(0)\n",
    "        correct += (output_index == y_).sum().float()\n",
    "        \n",
    "    print(\"Auucracy of Test Data: {}\".format(100 * correct / total))"
   ]
  },
  {
   "cell_type": "code",
   "execution_count": 21,
   "metadata": {},
   "outputs": [
    {
     "name": "stdout",
     "output_type": "stream",
     "text": [
      "torch.float32\n",
      "torch.float32\n",
      "torch.float32\n",
      "1\n",
      "28\n",
      "28\n",
      "torch.float32\n",
      "torch.Size([256, 1, 28, 28])\n",
      "tensor([1, 9, 9, 9, 0, 4, 5, 0, 1, 4, 1, 5, 8, 4, 0, 4, 0, 4, 5, 7, 2, 9, 9, 9,\n",
      "        7, 7, 1, 8, 3, 6, 0, 5, 7, 2, 8, 1, 9, 0, 9, 3, 3, 6, 6, 9, 0, 1, 4, 2,\n",
      "        2, 3, 6, 8, 2, 0, 9, 7, 1, 9, 1, 5, 8, 3, 2, 6, 2, 4, 1, 6, 8, 8, 3, 3,\n",
      "        1, 2, 7, 9, 1, 3, 1, 6, 7, 6, 7, 6, 5, 6, 7, 4, 2, 1, 5, 7, 2, 8, 5, 9,\n",
      "        1, 9, 6, 6, 9, 3, 0, 6, 8, 3, 3, 6, 9, 1, 4, 4, 2, 7, 6, 9, 3, 6, 6, 5,\n",
      "        1, 0, 3, 0, 4, 3, 8, 8, 3, 3, 4, 2, 9, 3, 8, 1, 3, 8, 3, 4, 0, 6, 4, 9,\n",
      "        5, 1, 7, 4, 8, 2, 3, 9, 7, 3, 2, 1, 6, 8, 4, 4, 2, 5, 8, 2, 8, 2, 7, 8,\n",
      "        9, 2, 7, 3, 2, 7, 7, 7, 5, 0, 8, 6, 5, 5, 1, 9, 8, 6, 6, 3, 2, 4, 9, 4,\n",
      "        1, 1, 0, 9, 8, 6, 1, 7, 5, 3, 5, 5, 9, 7, 0, 1, 1, 7, 6, 2, 1, 2, 2, 5,\n",
      "        3, 1, 6, 9, 0, 9, 7, 3, 1, 9, 5, 2, 8, 1, 1, 3, 9, 5, 1, 7, 8, 3, 9, 7,\n",
      "        6, 1, 4, 4, 9, 0, 2, 9, 9, 5, 0, 6, 3, 3, 0, 4])\n",
      "256\n",
      "Wall time: 931 ms\n"
     ]
    }
   ],
   "source": [
    "%%time\n",
    "for j, [image,label] in enumerate(train_loader):\n",
    "    print(image[0].dtype)\n",
    "    print(image[0][0].dtype)\n",
    "    print(image[0][0][1].dtype)\n",
    "    print(len(image[0]))\n",
    "    print(len(image[0][0]))\n",
    "    print(len(image[0][0][1]))\n",
    "    print(image.dtype)\n",
    "    print(image.shape)\n",
    "    print(label)\n",
    "    print(len(label))\n",
    "    break"
   ]
  },
  {
   "cell_type": "markdown",
   "metadata": {},
   "source": [
    "28 x 28 사이즈인데, 256개를 하나로 묶고 정답 레이블을 label로 만들어 뒀구나!!"
   ]
  },
  {
   "cell_type": "code",
   "execution_count": null,
   "metadata": {},
   "outputs": [],
   "source": []
  }
 ],
 "metadata": {
  "kernelspec": {
   "display_name": "Python 3",
   "language": "python",
   "name": "python3"
  },
  "language_info": {
   "codemirror_mode": {
    "name": "ipython",
    "version": 3
   },
   "file_extension": ".py",
   "mimetype": "text/x-python",
   "name": "python",
   "nbconvert_exporter": "python",
   "pygments_lexer": "ipython3",
   "version": "3.7.1"
  }
 },
 "nbformat": 4,
 "nbformat_minor": 2
}
