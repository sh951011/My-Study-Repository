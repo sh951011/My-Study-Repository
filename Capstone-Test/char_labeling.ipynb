{
 "cells": [
  {
   "cell_type": "markdown",
   "metadata": {},
   "source": [
    "# Char2id"
   ]
  },
  {
   "cell_type": "code",
   "execution_count": 1,
   "metadata": {},
   "outputs": [],
   "source": [
    "def file_padding(i):\n",
    "    if i < 10: return '00000' + str(i)\n",
    "    elif i < 100: return '0000' + str(i)\n",
    "    elif i < 1000: return '000' + str(i)\n",
    "    elif i < 10000: return '00' + str(i)\n",
    "    elif i < 100000: return '0' + str(i)\n",
    "    else: return str(i)"
   ]
  },
  {
   "cell_type": "code",
   "execution_count": 2,
   "metadata": {},
   "outputs": [],
   "source": [
    "def get_path(path, fname, filenum, format_):\n",
    "    return path+fname+filenum+format_"
   ]
  },
  {
   "cell_type": "markdown",
   "metadata": {},
   "source": [
    "## Create kai_labels.csv"
   ]
  },
  {
   "cell_type": "code",
   "execution_count": 8,
   "metadata": {},
   "outputs": [
    {
     "name": "stdout",
     "output_type": "stream",
     "text": [
      "started...\n"
     ]
    },
    {
     "name": "stderr",
     "output_type": "stream",
     "text": [
      "100%|████████████████████████████████████████████████████████████████████████| 622544/622544 [03:02<00:00, 3409.03it/s]\n"
     ]
    },
    {
     "ename": "NameError",
     "evalue": "name 'pd' is not defined",
     "output_type": "error",
     "traceback": [
      "\u001b[1;31m---------------------------------------------------------------------------\u001b[0m",
      "\u001b[1;31mNameError\u001b[0m                                 Traceback (most recent call last)",
      "\u001b[1;32m<ipython-input-8-f7c39bac8fa4>\u001b[0m in \u001b[0;36m<module>\u001b[1;34m\u001b[0m\n\u001b[0;32m     24\u001b[0m     \u001b[0mlabel\u001b[0m\u001b[1;33m[\u001b[0m\u001b[1;34m'char'\u001b[0m\u001b[1;33m]\u001b[0m\u001b[1;33m.\u001b[0m\u001b[0mappend\u001b[0m\u001b[1;33m(\u001b[0m\u001b[0mch\u001b[0m\u001b[1;33m)\u001b[0m\u001b[1;33m\u001b[0m\u001b[1;33m\u001b[0m\u001b[0m\n\u001b[0;32m     25\u001b[0m     \u001b[0mlabel\u001b[0m\u001b[1;33m[\u001b[0m\u001b[1;34m'freq'\u001b[0m\u001b[1;33m]\u001b[0m\u001b[1;33m.\u001b[0m\u001b[0mappend\u001b[0m\u001b[1;33m(\u001b[0m\u001b[0mfreq\u001b[0m\u001b[1;33m)\u001b[0m\u001b[1;33m\u001b[0m\u001b[1;33m\u001b[0m\u001b[0m\n\u001b[1;32m---> 26\u001b[1;33m \u001b[0mdf_label\u001b[0m \u001b[1;33m=\u001b[0m \u001b[0mpd\u001b[0m\u001b[1;33m.\u001b[0m\u001b[0mDataFrame\u001b[0m\u001b[1;33m(\u001b[0m\u001b[0mlabel\u001b[0m\u001b[1;33m)\u001b[0m\u001b[1;33m\u001b[0m\u001b[1;33m\u001b[0m\u001b[0m\n\u001b[0m\u001b[0;32m     27\u001b[0m \u001b[0mdf_label\u001b[0m\u001b[1;33m.\u001b[0m\u001b[0mto_csv\u001b[0m\u001b[1;33m(\u001b[0m\u001b[1;34m'./kai_labels.csv'\u001b[0m\u001b[1;33m,\u001b[0m \u001b[0mencoding\u001b[0m\u001b[1;33m=\u001b[0m\u001b[1;34m'cp949'\u001b[0m\u001b[1;33m,\u001b[0m \u001b[0mindex\u001b[0m\u001b[1;33m=\u001b[0m\u001b[1;32mFalse\u001b[0m\u001b[1;33m)\u001b[0m\u001b[1;33m\u001b[0m\u001b[1;33m\u001b[0m\u001b[0m\n\u001b[0;32m     28\u001b[0m \u001b[0mprint\u001b[0m\u001b[1;33m(\u001b[0m\u001b[1;34m'End!!!'\u001b[0m\u001b[1;33m)\u001b[0m\u001b[1;33m\u001b[0m\u001b[1;33m\u001b[0m\u001b[0m\n",
      "\u001b[1;31mNameError\u001b[0m: name 'pd' is not defined"
     ]
    }
   ],
   "source": [
    "from tqdm import trange\n",
    "\n",
    "path = \"E:/한국어 음성데이터/KaiSpeech/\"\n",
    "fname = 'KaiSpeech_'\n",
    "TOTAL_NUM = 622545\n",
    "label_list = []\n",
    "label_freq = []\n",
    "print('started...')\n",
    "for filenum in trange(1,TOTAL_NUM):\n",
    "    f = open(get_path(path,fname,file_padding(filenum),\".txt\"))\n",
    "    sentence = f.readline()\n",
    "    f.close()\n",
    "    for ch in sentence:\n",
    "        if ch not in label_list:\n",
    "            label_list.append(ch)\n",
    "            label_freq.append(1)\n",
    "        else:\n",
    "            label_freq[label_list.index(ch)] += 1\n",
    "label_freq, label_list = zip(*sorted(zip(label_freq, label_list), reverse=True))\n",
    "label = {'id':[], 'char':[], 'freq' :[]}\n",
    "for idx, ch_freq in enumerate(zip(label_list, label_freq)):\n",
    "    ch, freq = ch_freq\n",
    "    label['id'].append(idx)\n",
    "    label['char'].append(ch)\n",
    "    label['freq'].append(freq)"
   ]
  },
  {
   "cell_type": "markdown",
   "metadata": {},
   "source": [
    "## Create KaiSpeech_label_FileNum"
   ]
  },
  {
   "cell_type": "code",
   "execution_count": 3,
   "metadata": {},
   "outputs": [],
   "source": [
    "import pandas as pd\n",
    "char2id = dict() # [ch] = id\n",
    "id2char = dict() # [id] = ch\n",
    "\n",
    "df_labels = pd.read_csv('kai_labels.csv', encoding='cp949')\n",
    "id_list = df_labels['id']\n",
    "ch_list = df_labels['char']\n",
    "\n",
    "for idx, ch in enumerate(ch_list):\n",
    "    char2id[ch] = id_list[idx]\n",
    "    id2char[id_list[idx]] = ch"
   ]
  },
  {
   "cell_type": "code",
   "execution_count": 5,
   "metadata": {},
   "outputs": [
    {
     "name": "stdout",
     "output_type": "stream",
     "text": [
      "started...\n"
     ]
    },
    {
     "name": "stderr",
     "output_type": "stream",
     "text": [
      "100%|████████████████████████████████████████████████████████████████████████| 105321/105321 [7:35:17<00:00,  1.79it/s]\n"
     ]
    },
    {
     "name": "stdout",
     "output_type": "stream",
     "text": [
      "Ended!!!\n"
     ]
    }
   ],
   "source": [
    "from tqdm import trange\n",
    "\n",
    "path = \"E:/한국어 음성데이터/KaiSpeech/\"\n",
    "fname = 'KaiSpeech_'\n",
    "label_fname = 'KaiSpeech_label_'\n",
    "TOTAL_NUM = 622545\n",
    "START_POINT = 1\n",
    "print('started...')\n",
    "for filenum in trange(START_POINT,TOTAL_NUM):\n",
    "    f = open(get_path(path,fname,file_padding(filenum),\".txt\"))\n",
    "    sentence = f.readline()\n",
    "    labels = str()\n",
    "    f.close()\n",
    "    for idx, ch in enumerate(sentence):\n",
    "        if idx == 0: labels += str(char2id[ch])\n",
    "        else : labels += (' ' + str(char2id[ch]))\n",
    "    f = open(get_path(path,label_fname,file_padding(filenum),\".txt\"),\"w\")\n",
    "    f.write(labels)\n",
    "    f.close()\n",
    "print(\"Ended!!!\")"
   ]
  },
  {
   "cell_type": "code",
   "execution_count": 3,
   "metadata": {},
   "outputs": [],
   "source": [
    "import pandas as pd\n",
    "TOTAL_NUM = 622545\n",
    "TRAIN_NUM = int( 622545 * 0.8 )\n",
    "TEST_NUM = TOTAL_NUM - TRAIN_NUM\n",
    "train_data_list = {'audio':[], 'label':[]}\n",
    "test_data_list = {'audio':[], 'label':[]}\n",
    "kai_labels = pd.read_csv(\"kai_labels.csv\", encoding='cp949')\n",
    "rare_labels = kai_labels['char'][2037:]"
   ]
  },
  {
   "cell_type": "code",
   "execution_count": 4,
   "metadata": {},
   "outputs": [
    {
     "name": "stderr",
     "output_type": "stream",
     "text": [
      "100%|██████████████████████████████████████████████████████████████████████| 622544/622544 [00:01<00:00, 318302.03it/s]\n"
     ]
    }
   ],
   "source": [
    "from tqdm import trange\n",
    "\n",
    "fname = 'KaiSpeech_'\n",
    "label_fname = 'KaiSpeech_label_'\n",
    "\n",
    "audio_paths = []\n",
    "label_paths = []\n",
    "\n",
    "for filenum in trange(1, TOTAL_NUM):\n",
    "    audio_paths.append(fname+file_padding(filenum)+\".pcm\")\n",
    "    label_paths.append(label_fname+file_padding(filenum)+\".txt\")"
   ]
  },
  {
   "cell_type": "code",
   "execution_count": 5,
   "metadata": {},
   "outputs": [
    {
     "name": "stdout",
     "output_type": "stream",
     "text": [
      "['KaiSpeech_000001.pcm', 'KaiSpeech_000002.pcm', 'KaiSpeech_000003.pcm', 'KaiSpeech_000004.pcm', 'KaiSpeech_000005.pcm']\n",
      "['KaiSpeech_label_000001.txt', 'KaiSpeech_label_000002.txt', 'KaiSpeech_label_000003.txt', 'KaiSpeech_label_000004.txt', 'KaiSpeech_label_000005.txt']\n"
     ]
    }
   ],
   "source": [
    "def head(list_):\n",
    "    print(list_[:5])\n",
    "head(audio_paths)\n",
    "head(label_paths)"
   ]
  },
  {
   "cell_type": "code",
   "execution_count": 6,
   "metadata": {},
   "outputs": [],
   "source": [
    "import random\n",
    "data_paths = list(zip(audio_paths, label_paths))\n",
    "random.shuffle(data_paths)\n",
    "audio_paths, label_paths = zip(*data_paths)"
   ]
  },
  {
   "cell_type": "code",
   "execution_count": 7,
   "metadata": {},
   "outputs": [
    {
     "name": "stdout",
     "output_type": "stream",
     "text": [
      "('KaiSpeech_078903.pcm', 'KaiSpeech_449461.pcm', 'KaiSpeech_620819.pcm', 'KaiSpeech_103058.pcm', 'KaiSpeech_420656.pcm')\n",
      "('KaiSpeech_label_078903.txt', 'KaiSpeech_label_449461.txt', 'KaiSpeech_label_620819.txt', 'KaiSpeech_label_103058.txt', 'KaiSpeech_label_420656.txt')\n"
     ]
    }
   ],
   "source": [
    "head(audio_paths)\n",
    "head(label_paths)"
   ]
  },
  {
   "cell_type": "code",
   "execution_count": 11,
   "metadata": {},
   "outputs": [
    {
     "name": "stdout",
     "output_type": "stream",
     "text": [
      "started...\n"
     ]
    },
    {
     "name": "stderr",
     "output_type": "stream",
     "text": [
      "100%|███████████████████████████████████████████████████████████████████████| 622544/622544 [1:01:27<00:00, 168.85it/s]\n"
     ]
    },
    {
     "name": "stdout",
     "output_type": "stream",
     "text": [
      "Ended!!!\n"
     ]
    }
   ],
   "source": [
    "from tqdm import trange\n",
    "\n",
    "path = \"E:/한국어 음성데이터/KaiSpeech/\"\n",
    "print('started...')\n",
    "train_full = False\n",
    "cnt = 0\n",
    "length = len(audio_paths)\n",
    "for idx in trange(length):\n",
    "    audio = audio_paths[idx]\n",
    "    label = label_paths[idx]\n",
    "    if len(train_data_list['audio']) == TRAIN_NUM:\n",
    "        train_full = True\n",
    "    if train_full:\n",
    "        test_data_list['audio'].append(audio)\n",
    "        test_data_list['label'].append(label)\n",
    "    else:\n",
    "        rare_in = False\n",
    "        f = open((path+audio).split('.')[0]+\".txt\")\n",
    "        sentence = f.readline()\n",
    "        f.close()\n",
    "        for rare in rare_labels:\n",
    "            if rare in sentence:\n",
    "                rare_in = True\n",
    "                break\n",
    "        if rare_in:\n",
    "            test_data_list['audio'].append(audio)\n",
    "            test_data_list['label'].append(label)\n",
    "        else:\n",
    "            train_data_list['audio'].append(audio)\n",
    "            train_data_list['label'].append(label)\n",
    "print(\"Ended!!!\")"
   ]
  },
  {
   "cell_type": "code",
   "execution_count": 12,
   "metadata": {
    "scrolled": true
   },
   "outputs": [
    {
     "data": {
      "text/plain": [
       "148596"
      ]
     },
     "execution_count": 12,
     "metadata": {},
     "output_type": "execute_result"
    }
   ],
   "source": [
    "len(test_data_list['audio'])"
   ]
  },
  {
   "cell_type": "code",
   "execution_count": 13,
   "metadata": {},
   "outputs": [
    {
     "data": {
      "text/plain": [
       "498036"
      ]
     },
     "execution_count": 13,
     "metadata": {},
     "output_type": "execute_result"
    }
   ],
   "source": [
    "len(train_data_list['audio'])"
   ]
  },
  {
   "cell_type": "code",
   "execution_count": 14,
   "metadata": {},
   "outputs": [],
   "source": [
    "test_list = pd.DataFrame(test_data_list)\n",
    "test_list.to_csv(\"test_list.csv\", encoding='cp949', index=False)"
   ]
  },
  {
   "cell_type": "code",
   "execution_count": 15,
   "metadata": {},
   "outputs": [],
   "source": [
    "train_list = pd.DataFrame(train_data_list)\n",
    "train_list.to_csv(\"train_list.csv\", encoding='cp949', index=False)"
   ]
  },
  {
   "cell_type": "code",
   "execution_count": null,
   "metadata": {},
   "outputs": [],
   "source": []
  }
 ],
 "metadata": {
  "kernelspec": {
   "display_name": "Python 3",
   "language": "python",
   "name": "python3"
  },
  "language_info": {
   "codemirror_mode": {
    "name": "ipython",
    "version": 3
   },
   "file_extension": ".py",
   "mimetype": "text/x-python",
   "name": "python",
   "nbconvert_exporter": "python",
   "pygments_lexer": "ipython3",
   "version": "3.7.1"
  }
 },
 "nbformat": 4,
 "nbformat_minor": 2
}
