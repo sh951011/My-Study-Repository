{
 "cells": [
  {
   "cell_type": "markdown",
   "metadata": {},
   "source": [
    "# Char2id"
   ]
  },
  {
   "cell_type": "code",
   "execution_count": 11,
   "metadata": {},
   "outputs": [],
   "source": [
    "def file_padding(i):\n",
    "    if i < 10: return '00000' + str(i)\n",
    "    elif i < 100: return '0000' + str(i)\n",
    "    elif i < 1000: return '000' + str(i)\n",
    "    elif i < 10000: return '00' + str(i)\n",
    "    elif i < 100000: return '0' + str(i)\n",
    "    else: return str(i)"
   ]
  },
  {
   "cell_type": "code",
   "execution_count": 12,
   "metadata": {},
   "outputs": [],
   "source": [
    "def get_path(path, fname, filenum, format_):\n",
    "    return path+fname+filenum+format_"
   ]
  },
  {
   "cell_type": "markdown",
   "metadata": {},
   "source": [
    "## Create kai_labels.csv"
   ]
  },
  {
   "cell_type": "code",
   "execution_count": 8,
   "metadata": {},
   "outputs": [
    {
     "name": "stdout",
     "output_type": "stream",
     "text": [
      "started...\n"
     ]
    },
    {
     "name": "stderr",
     "output_type": "stream",
     "text": [
      "100%|████████████████████████████████████████████████████████████████████████| 622544/622544 [03:02<00:00, 3409.03it/s]\n"
     ]
    },
    {
     "ename": "NameError",
     "evalue": "name 'pd' is not defined",
     "output_type": "error",
     "traceback": [
      "\u001b[1;31m---------------------------------------------------------------------------\u001b[0m",
      "\u001b[1;31mNameError\u001b[0m                                 Traceback (most recent call last)",
      "\u001b[1;32m<ipython-input-8-f7c39bac8fa4>\u001b[0m in \u001b[0;36m<module>\u001b[1;34m\u001b[0m\n\u001b[0;32m     24\u001b[0m     \u001b[0mlabel\u001b[0m\u001b[1;33m[\u001b[0m\u001b[1;34m'char'\u001b[0m\u001b[1;33m]\u001b[0m\u001b[1;33m.\u001b[0m\u001b[0mappend\u001b[0m\u001b[1;33m(\u001b[0m\u001b[0mch\u001b[0m\u001b[1;33m)\u001b[0m\u001b[1;33m\u001b[0m\u001b[1;33m\u001b[0m\u001b[0m\n\u001b[0;32m     25\u001b[0m     \u001b[0mlabel\u001b[0m\u001b[1;33m[\u001b[0m\u001b[1;34m'freq'\u001b[0m\u001b[1;33m]\u001b[0m\u001b[1;33m.\u001b[0m\u001b[0mappend\u001b[0m\u001b[1;33m(\u001b[0m\u001b[0mfreq\u001b[0m\u001b[1;33m)\u001b[0m\u001b[1;33m\u001b[0m\u001b[1;33m\u001b[0m\u001b[0m\n\u001b[1;32m---> 26\u001b[1;33m \u001b[0mdf_label\u001b[0m \u001b[1;33m=\u001b[0m \u001b[0mpd\u001b[0m\u001b[1;33m.\u001b[0m\u001b[0mDataFrame\u001b[0m\u001b[1;33m(\u001b[0m\u001b[0mlabel\u001b[0m\u001b[1;33m)\u001b[0m\u001b[1;33m\u001b[0m\u001b[1;33m\u001b[0m\u001b[0m\n\u001b[0m\u001b[0;32m     27\u001b[0m \u001b[0mdf_label\u001b[0m\u001b[1;33m.\u001b[0m\u001b[0mto_csv\u001b[0m\u001b[1;33m(\u001b[0m\u001b[1;34m'./kai_labels.csv'\u001b[0m\u001b[1;33m,\u001b[0m \u001b[0mencoding\u001b[0m\u001b[1;33m=\u001b[0m\u001b[1;34m'cp949'\u001b[0m\u001b[1;33m,\u001b[0m \u001b[0mindex\u001b[0m\u001b[1;33m=\u001b[0m\u001b[1;32mFalse\u001b[0m\u001b[1;33m)\u001b[0m\u001b[1;33m\u001b[0m\u001b[1;33m\u001b[0m\u001b[0m\n\u001b[0;32m     28\u001b[0m \u001b[0mprint\u001b[0m\u001b[1;33m(\u001b[0m\u001b[1;34m'End!!!'\u001b[0m\u001b[1;33m)\u001b[0m\u001b[1;33m\u001b[0m\u001b[1;33m\u001b[0m\u001b[0m\n",
      "\u001b[1;31mNameError\u001b[0m: name 'pd' is not defined"
     ]
    }
   ],
   "source": [
    "from tqdm import trange\n",
    "\n",
    "path = \"E:/한국어 음성데이터/KaiSpeech/\"\n",
    "fname = 'KaiSpeech_'\n",
    "TOTAL_NUM = 622545\n",
    "label_list = []\n",
    "label_freq = []\n",
    "print('started...')\n",
    "for filenum in trange(1,TOTAL_NUM):\n",
    "    f = open(get_path(path,fname,file_padding(filenum),\".txt\"))\n",
    "    sentence = f.readline()\n",
    "    f.close()\n",
    "    for ch in sentence:\n",
    "        if ch not in label_list:\n",
    "            label_list.append(ch)\n",
    "            label_freq.append(1)\n",
    "        else:\n",
    "            label_freq[label_list.index(ch)] += 1\n",
    "label_freq, label_list = zip(*sorted(zip(label_freq, label_list), reverse=True))\n",
    "label = {'id':[], 'char':[], 'freq' :[]}\n",
    "for idx, ch_freq in enumerate(zip(label_list, label_freq)):\n",
    "    ch, freq = ch_freq\n",
    "    label['id'].append(idx)\n",
    "    label['char'].append(ch)\n",
    "    label['freq'].append(freq)"
   ]
  },
  {
   "cell_type": "markdown",
   "metadata": {},
   "source": [
    "## Create KaiSpeech_label_FileNum"
   ]
  },
  {
   "cell_type": "code",
   "execution_count": 17,
   "metadata": {},
   "outputs": [],
   "source": [
    "import pandas as pd\n",
    "char2id = dict() # [ch] = id\n",
    "id2char = dict() # [id] = ch\n",
    "\n",
    "df_labels = pd.read_csv('kai_labels.csv', encoding='cp949')\n",
    "id_list = df_labels['id']\n",
    "ch_list = df_labels['char']\n",
    "\n",
    "for idx, ch in enumerate(ch_list):\n",
    "    char2id[ch] = id_list[idx]\n",
    "    id2char[id_list[idx]] = ch"
   ]
  },
  {
   "cell_type": "code",
   "execution_count": null,
   "metadata": {},
   "outputs": [
    {
     "name": "stdout",
     "output_type": "stream",
     "text": [
      "started...\n"
     ]
    },
    {
     "name": "stderr",
     "output_type": "stream",
     "text": [
      "  7%|████▋                                                                | 42307/622544 [1:26:59<233:35:06,  1.45s/it]"
     ]
    }
   ],
   "source": [
    "from tqdm import trange\n",
    "\n",
    "path = \"E:/한국어 음성데이터/KaiSpeech/\"\n",
    "fname = 'KaiSpeech_'\n",
    "label_fname = 'KaiSpeech_label_'\n",
    "TOTAL_NUM = 622545\n",
    "\n",
    "print('started...')\n",
    "for filenum in trange(1,TOTAL_NUM):\n",
    "    f = open(get_path(path,fname,file_padding(filenum),\".txt\"))\n",
    "    sentence = f.readline()\n",
    "    labels = str()\n",
    "    f.close()\n",
    "    for idx, ch in enumerate(sentence):\n",
    "        if idx == 0: labels += str(char2id[ch])\n",
    "        else : labels += (' ' + str(char2id[ch]))\n",
    "    f = open(get_path(path,label_fname,file_padding(filenum),\".txt\"),\"w\")\n",
    "    f.write(labels)\n",
    "    f.close()\n",
    "print(\"Ended!!!\")"
   ]
  },
  {
   "cell_type": "code",
   "execution_count": 24,
   "metadata": {},
   "outputs": [],
   "source": [
    "def label_to_string(labels, id2char):\n",
    "    id_list = labels.split(' ')\n",
    "    sentence = str()\n",
    "    for id in id_list: sentence += id2char[int(id)]\n",
    "    return sentence"
   ]
  },
  {
   "cell_type": "code",
   "execution_count": null,
   "metadata": {},
   "outputs": [],
   "source": []
  }
 ],
 "metadata": {
  "kernelspec": {
   "display_name": "Python 3",
   "language": "python",
   "name": "python3"
  },
  "language_info": {
   "codemirror_mode": {
    "name": "ipython",
    "version": 3
   },
   "file_extension": ".py",
   "mimetype": "text/x-python",
   "name": "python",
   "nbconvert_exporter": "python",
   "pygments_lexer": "ipython3",
   "version": "3.7.1"
  }
 },
 "nbformat": 4,
 "nbformat_minor": 2
}
