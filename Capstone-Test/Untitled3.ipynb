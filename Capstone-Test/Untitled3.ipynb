{
 "cells": [
  {
   "cell_type": "code",
   "execution_count": 3,
   "metadata": {},
   "outputs": [
    {
     "name": "stdout",
     "output_type": "stream",
     "text": [
      "   id char     freq\n",
      "0   0       5774462\n",
      "1   1    .   640924\n",
      "2   2    그   556373\n",
      "3   3    이   509291\n",
      "4   4    는   374559\n"
     ]
    }
   ],
   "source": [
    "import pandas as pd\n",
    "test_case = \"안녕하세요 조소영이에요!!\"\n",
    "data = pd.read_csv(\"kai_labels.csv\", encoding=\"cp949\")\n",
    "print(data.head())\n",
    "#ch_list\n",
    "#id_list"
   ]
  },
  {
   "cell_type": "code",
   "execution_count": 4,
   "metadata": {},
   "outputs": [
    {
     "data": {
      "text/plain": [
       "{'a': 10}"
      ]
     },
     "execution_count": 4,
     "metadata": {},
     "output_type": "execute_result"
    }
   ],
   "source": [
    "char2index = dict()\n",
    "char2index[\"a\"] = 10\n",
    "char2index"
   ]
  },
  {
   "cell_type": "code",
   "execution_count": null,
   "metadata": {},
   "outputs": [],
   "source": []
  }
 ],
 "metadata": {
  "kernelspec": {
   "display_name": "Python 3",
   "language": "python",
   "name": "python3"
  },
  "language_info": {
   "codemirror_mode": {
    "name": "ipython",
    "version": 3
   },
   "file_extension": ".py",
   "mimetype": "text/x-python",
   "name": "python",
   "nbconvert_exporter": "python",
   "pygments_lexer": "ipython3",
   "version": "3.7.1"
  }
 },
 "nbformat": 4,
 "nbformat_minor": 2
}
