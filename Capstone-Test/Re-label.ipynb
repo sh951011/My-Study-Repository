{
 "cells": [
  {
   "cell_type": "code",
   "execution_count": 20,
   "metadata": {},
   "outputs": [],
   "source": [
    "import pandas as pd\n",
    "\n",
    "THRESHOLD = 2\n",
    "\n",
    "label_file = pd.read_csv(\"aihub_labels.csv\", encoding='cp949')\n",
    "target = label_file[label_file['freq'] < 40]\n",
    "target_ch = list(target['char'])\n",
    "target_id = list(target['id'])"
   ]
  },
  {
   "cell_type": "code",
   "execution_count": 1,
   "metadata": {},
   "outputs": [],
   "source": [
    "def get_path(base_path, base_dir, mid_dir, filename):\n",
    "    return base_path + base_dir + '/' + mid_dir + '/' + filename"
   ]
  },
  {
   "cell_type": "code",
   "execution_count": 2,
   "metadata": {},
   "outputs": [],
   "source": [
    "def dir_padding(i):\n",
    "    if i < 10: return '000' + str(i)\n",
    "    elif i < 100: return '00' + str(i)\n",
    "    elif i < 1000: return '0' + str(i)\n",
    "    elif i < 10000 : return str(i)"
   ]
  },
  {
   "cell_type": "code",
   "execution_count": 3,
   "metadata": {},
   "outputs": [],
   "source": [
    "def file_padding(i):\n",
    "    if i < 10: return '00000' + str(i)\n",
    "    elif i < 100: return '0000' + str(i)\n",
    "    elif i < 1000: return '000' + str(i)\n",
    "    elif i < 10000: return '00' + str(i)\n",
    "    elif i < 100000: return '0' + str(i)\n",
    "    else: return str(i)"
   ]
  },
  {
   "cell_type": "code",
   "execution_count": 4,
   "metadata": {
    "scrolled": false
   },
   "outputs": [
    {
     "name": "stdout",
     "output_type": "stream",
     "text": [
      "started...\n"
     ]
    },
    {
     "name": "stderr",
     "output_type": "stream",
     "text": [
      " 35%|███████████████▌                             | 215297/622545 [02:01<05:46, 1174.33it/s]"
     ]
    },
    {
     "name": "stdout",
     "output_type": "stream",
     "text": [
      "215400  :  근데 내가 너를 데리고 왔어, 그럼 니가 파는 폰 파는 거에 대해서 %율을 달마다 받아.\n"
     ]
    },
    {
     "name": "stderr",
     "output_type": "stream",
     "text": [
      " 46%|████████████████████▌                        | 284468/622545 [02:56<04:38, 1212.29it/s]"
     ]
    },
    {
     "name": "stdout",
     "output_type": "stream",
     "text": [
      "284573  :  일을 그만뒀는데도 내가 폰을 팔았으니까 그 %율이 계속 들어와 달마다.\n"
     ]
    },
    {
     "name": "stderr",
     "output_type": "stream",
     "text": [
      " 48%|█████████████████████▋                       | 300396/622545 [03:10<04:36, 1165.54it/s]"
     ]
    },
    {
     "ename": "KeyboardInterrupt",
     "evalue": "",
     "output_type": "error",
     "traceback": [
      "\u001b[1;31m---------------------------------------------------------------------------\u001b[0m",
      "\u001b[1;31mKeyboardInterrupt\u001b[0m                         Traceback (most recent call last)",
      "\u001b[1;32m<timed exec>\u001b[0m in \u001b[0;36m<module>\u001b[1;34m\u001b[0m\n",
      "\u001b[1;32mC:\\ProgramData\\Anaconda3\\lib\\_bootlocale.py\u001b[0m in \u001b[0;36mgetpreferredencoding\u001b[1;34m(do_setlocale)\u001b[0m\n\u001b[0;32m      9\u001b[0m \u001b[1;33m\u001b[0m\u001b[0m\n\u001b[0;32m     10\u001b[0m \u001b[1;32mif\u001b[0m \u001b[0msys\u001b[0m\u001b[1;33m.\u001b[0m\u001b[0mplatform\u001b[0m\u001b[1;33m.\u001b[0m\u001b[0mstartswith\u001b[0m\u001b[1;33m(\u001b[0m\u001b[1;34m\"win\"\u001b[0m\u001b[1;33m)\u001b[0m\u001b[1;33m:\u001b[0m\u001b[1;33m\u001b[0m\u001b[1;33m\u001b[0m\u001b[0m\n\u001b[1;32m---> 11\u001b[1;33m     \u001b[1;32mdef\u001b[0m \u001b[0mgetpreferredencoding\u001b[0m\u001b[1;33m(\u001b[0m\u001b[0mdo_setlocale\u001b[0m\u001b[1;33m=\u001b[0m\u001b[1;32mTrue\u001b[0m\u001b[1;33m)\u001b[0m\u001b[1;33m:\u001b[0m\u001b[1;33m\u001b[0m\u001b[1;33m\u001b[0m\u001b[0m\n\u001b[0m\u001b[0;32m     12\u001b[0m         \u001b[1;32mif\u001b[0m \u001b[0msys\u001b[0m\u001b[1;33m.\u001b[0m\u001b[0mflags\u001b[0m\u001b[1;33m.\u001b[0m\u001b[0mutf8_mode\u001b[0m\u001b[1;33m:\u001b[0m\u001b[1;33m\u001b[0m\u001b[1;33m\u001b[0m\u001b[0m\n\u001b[0;32m     13\u001b[0m             \u001b[1;32mreturn\u001b[0m \u001b[1;34m'UTF-8'\u001b[0m\u001b[1;33m\u001b[0m\u001b[1;33m\u001b[0m\u001b[0m\n",
      "\u001b[1;31mKeyboardInterrupt\u001b[0m: "
     ]
    }
   ],
   "source": [
    "%%time\n",
    "import os\n",
    "from tqdm import trange\n",
    "EXCEPTION = ['(', ')', '/']\n",
    "folder_change_point = [124 * x for x in range(1,5)]\n",
    "base_path = \"E:/한국어 음성데이터/\"\n",
    "base_dir = ['KsponSpeech_0' + str(x) for x in range(1,6)]\n",
    "mid_dir = ['KsponSpeech_' + str(dir_padding(x)) for x in range(1,624)]\n",
    "\n",
    "base_dir_idx = 0\n",
    "mid_dir_idx = 0\n",
    "past_mid_dir_idx = -1\n",
    "label_list = list()\n",
    "label_freq = list()\n",
    "cnt = 0\n",
    "result = str()\n",
    "print('started...')\n",
    "for file_num in trange(1, 622546):\n",
    "    if file_num % 1000 == 1 and file_num != 1: mid_dir_idx += 1\n",
    "    if mid_dir_idx in folder_change_point and mid_dir_idx != past_mid_dir_idx:\n",
    "        past_mid_dir_idx = mid_dir_idx\n",
    "        base_dir_idx += 1\n",
    "    path = get_path(base_path, base_dir[base_dir_idx], mid_dir[mid_dir_idx], 'KsponSpeech_' + file_padding(file_num))\n",
    "    f = open(path + \"_new.txt\", 'r')\n",
    "    text = f.readline()\n",
    "    f.close()\n",
    "    if '%' in text:\n",
    "        print(file_num , \" : \" , text)\n",
    "        text = text.replace('%', '퍼센트')\n",
    "        f = open(path + \"_new.txt\", 'w')\n",
    "        f.write(text)\n",
    "        f.close()\n",
    "        \n",
    "    \"\"\"\n",
    "    if file_num < TRASH:\n",
    "        f = open(path + \"_new.txt\", \"w\")\n",
    "        f.write(text)\n",
    "        f.close()\n",
    "    else:   \n",
    "        new_path = get_path(base_path, base_dir[base_dir_idx], mid_dir[mid_dir_idx], 'KsponSpeech_' + file_padding(file_num-1))\n",
    "        f = open(new_path + \"_new.txt\", \"w\")\n",
    "        f.write(text)\n",
    "        f.close()\n",
    "        os.rename(path+\".pcm\", new_path+\".pcm\")\n",
    "        os.rename(path+\".txt\", new_path+\".txt\")\n",
    "        \"\"\"\n",
    "print('ended!!!')"
   ]
  },
  {
   "cell_type": "code",
   "execution_count": 19,
   "metadata": {},
   "outputs": [
    {
     "data": {
      "text/plain": [
       "473055"
      ]
     },
     "execution_count": 19,
     "metadata": {},
     "output_type": "execute_result"
    }
   ],
   "source": [
    "file = open(\"re-label1.txt\", \"w\")\n",
    "file.write(result)"
   ]
  },
  {
   "cell_type": "code",
   "execution_count": 26,
   "metadata": {},
   "outputs": [],
   "source": [
    "import sys\n",
    "import wave\n",
    "import soundfile\n",
    "\n",
    "arg = 'E:/한국어 음성데이터/KsponSpeech_02/KsponSpeech_0200/KsponSpeech_199824'\n",
    "\n",
    "with open(arg+'.pcm', 'rb') as pcmfile:\n",
    "    pcmdata = pcmfile.read()\n",
    "with wave.open(arg+'_sampwidth2'+'.wav', 'wb') as wavfile:\n",
    "    wavfile.setparams((1, 2, 16000, 0, 'NONE', 'NONE'))\n",
    "    wavfile.writeframes(pcmdata)\n",
    "    # Frame Rate = 8000!"
   ]
  },
  {
   "cell_type": "code",
   "execution_count": 28,
   "metadata": {},
   "outputs": [],
   "source": [
    "os.rename(\"가나다라.txt\", \"sd.txt\")"
   ]
  },
  {
   "cell_type": "code",
   "execution_count": null,
   "metadata": {},
   "outputs": [],
   "source": []
  }
 ],
 "metadata": {
  "kernelspec": {
   "display_name": "Python 3",
   "language": "python",
   "name": "python3"
  },
  "language_info": {
   "codemirror_mode": {
    "name": "ipython",
    "version": 3
   },
   "file_extension": ".py",
   "mimetype": "text/x-python",
   "name": "python",
   "nbconvert_exporter": "python",
   "pygments_lexer": "ipython3",
   "version": "3.7.1"
  }
 },
 "nbformat": 4,
 "nbformat_minor": 2
}
