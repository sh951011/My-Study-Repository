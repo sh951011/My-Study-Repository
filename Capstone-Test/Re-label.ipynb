{
 "cells": [
  {
   "cell_type": "code",
   "execution_count": 20,
   "metadata": {},
   "outputs": [],
   "source": [
    "import pandas as pd\n",
    "\n",
    "THRESHOLD = 2\n",
    "\n",
    "label_file = pd.read_csv(\"aihub_labels.csv\", encoding='cp949')\n",
    "target = label_file[label_file['freq'] < 40]\n",
    "target_ch = list(target['char'])\n",
    "target_id = list(target['id'])"
   ]
  },
  {
   "cell_type": "code",
   "execution_count": 2,
   "metadata": {},
   "outputs": [],
   "source": [
    "def get_path(base_path, base_dir, mid_dir, filename):\n",
    "    return base_path + base_dir + '/' + mid_dir + '/' + filename"
   ]
  },
  {
   "cell_type": "code",
   "execution_count": 3,
   "metadata": {},
   "outputs": [],
   "source": [
    "def dir_padding(i):\n",
    "    if i < 10: return '000' + str(i)\n",
    "    elif i < 100: return '00' + str(i)\n",
    "    elif i < 1000: return '0' + str(i)\n",
    "    elif i < 10000 : return str(i)"
   ]
  },
  {
   "cell_type": "code",
   "execution_count": 4,
   "metadata": {},
   "outputs": [],
   "source": [
    "def file_padding(i):\n",
    "    if i < 10: return '00000' + str(i)\n",
    "    elif i < 100: return '0000' + str(i)\n",
    "    elif i < 1000: return '000' + str(i)\n",
    "    elif i < 10000: return '00' + str(i)\n",
    "    elif i < 100000: return '0' + str(i)\n",
    "    else: return str(i)"
   ]
  },
  {
   "cell_type": "code",
   "execution_count": 7,
   "metadata": {},
   "outputs": [
    {
     "name": "stdout",
     "output_type": "stream",
     "text": [
      "started...\n"
     ]
    },
    {
     "name": "stderr",
     "output_type": "stream",
     "text": [
      "100%|███████████████████████████████████████████████████████████████████████| 422721/422721 [12:39:52<00:00,  9.77it/s]\n"
     ]
    },
    {
     "name": "stdout",
     "output_type": "stream",
     "text": [
      "ended!!!\n",
      "Wall time: 12h 39min 52s\n"
     ]
    }
   ],
   "source": [
    "%%time\n",
    "import os\n",
    "from tqdm import trange\n",
    "EXCEPTION = ['(', ')', '/']\n",
    "folder_change_point = [124 * x for x in range(1,5)]\n",
    "base_path = \"E:/한국어 음성데이터/\"\n",
    "base_dir = ['KsponSpeech_0' + str(x) for x in range(1,6)]\n",
    "mid_dir = ['KsponSpeech_' + str(dir_padding(x)) for x in range(1,624)]\n",
    "\n",
    "base_dir_idx = 1 # 199824 이후부터 하려고\n",
    "mid_dir_idx = 199 # 199824 이후부터 하려고\n",
    "past_mid_dir_idx = -1\n",
    "label_list = list()\n",
    "label_freq = list()\n",
    "cnt = 0\n",
    "result = str()\n",
    "print('started...')\n",
    "TRASH = 199824\n",
    "for file_num in trange(199825, 622546):\n",
    "    if file_num % 1000 == 1 and file_num != 1: mid_dir_idx += 1\n",
    "    if mid_dir_idx in folder_change_point and mid_dir_idx != past_mid_dir_idx:\n",
    "        past_mid_dir_idx = mid_dir_idx\n",
    "        base_dir_idx += 1\n",
    "    path = get_path(base_path, base_dir[base_dir_idx], mid_dir[mid_dir_idx], 'KsponSpeech_' + file_padding(file_num))\n",
    "    f = open(path + \"_new.txt\", 'r')\n",
    "    text = f.readline()\n",
    "    if '-' in text:\n",
    "        text = text.replace('-', ' ')\n",
    "    if '%' in text:\n",
    "        text.replace('%', '퍼센트')\n",
    "        \n",
    "    f.close()\n",
    "    if file_num < TRASH:\n",
    "        f = open(path + \"_new.txt\", \"w\")\n",
    "        f.write(text)\n",
    "        f.close()\n",
    "    else:   \n",
    "        new_path = get_path(base_path, base_dir[base_dir_idx], mid_dir[mid_dir_idx], 'KsponSpeech_' + file_padding(file_num-1))\n",
    "        f = open(new_path + \"_new.txt\", \"w\")\n",
    "        f.write(text)\n",
    "        f.close()\n",
    "        os.rename(path+\".pcm\", new_path+\".pcm\")\n",
    "        os.rename(path+\".txt\", new_path+\".txt\")\n",
    "print('ended!!!')"
   ]
  },
  {
   "cell_type": "code",
   "execution_count": 19,
   "metadata": {},
   "outputs": [
    {
     "data": {
      "text/plain": [
       "473055"
      ]
     },
     "execution_count": 19,
     "metadata": {},
     "output_type": "execute_result"
    }
   ],
   "source": [
    "file = open(\"re-label1.txt\", \"w\")\n",
    "file.write(result)"
   ]
  },
  {
   "cell_type": "code",
   "execution_count": 26,
   "metadata": {},
   "outputs": [],
   "source": [
    "import sys\n",
    "import wave\n",
    "import soundfile\n",
    "\n",
    "arg = 'E:/한국어 음성데이터/KsponSpeech_02/KsponSpeech_0200/KsponSpeech_199824'\n",
    "\n",
    "with open(arg+'.pcm', 'rb') as pcmfile:\n",
    "    pcmdata = pcmfile.read()\n",
    "with wave.open(arg+'_sampwidth2'+'.wav', 'wb') as wavfile:\n",
    "    wavfile.setparams((1, 2, 16000, 0, 'NONE', 'NONE'))\n",
    "    wavfile.writeframes(pcmdata)\n",
    "    # Frame Rate = 8000!"
   ]
  },
  {
   "cell_type": "code",
   "execution_count": 28,
   "metadata": {},
   "outputs": [],
   "source": [
    "os.rename(\"가나다라.txt\", \"sd.txt\")"
   ]
  },
  {
   "cell_type": "code",
   "execution_count": null,
   "metadata": {},
   "outputs": [],
   "source": []
  }
 ],
 "metadata": {
  "kernelspec": {
   "display_name": "Python 3",
   "language": "python",
   "name": "python3"
  },
  "language_info": {
   "codemirror_mode": {
    "name": "ipython",
    "version": 3
   },
   "file_extension": ".py",
   "mimetype": "text/x-python",
   "name": "python",
   "nbconvert_exporter": "python",
   "pygments_lexer": "ipython3",
   "version": "3.7.1"
  }
 },
 "nbformat": 4,
 "nbformat_minor": 2
}
