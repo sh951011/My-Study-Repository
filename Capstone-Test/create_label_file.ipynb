{
 "cells": [
  {
   "cell_type": "code",
   "execution_count": 27,
   "metadata": {},
   "outputs": [
    {
     "name": "stdout",
     "output_type": "stream",
     "text": [
      "(2, 2, 1, 1, 1, 1, 1, 1, 1, 1, 1, 1, 1, 1, 1, 1, 1, 1, 1, 1, 1, 1, 1, 1)\n",
      "('학', '가', '지', '장', '으', '서', '삼', '받', '바', '면', '때', '데', '던', '다', '는', '녔', '년', '까', '금', '근', '국', '건', '?', '+')\n"
     ]
    }
   ],
   "source": [
    "from collections import Counter, defaultdict\n",
    "def preprocess_label(path, dict_)\n",
    "    dict_is_all_you_need = defaultdict(int)\n",
    "    text = \"근데 삼 학년 때 까지는 국가장학금 바+ 받으면서 다녔던 건가?\"\n",
    "\n",
    "    for ch in text:\n",
    "        if ch == ' ':continue\n",
    "        dict_is_all_you_need[ch] += 1\n",
    "\n",
    "    keys = dict_is_all_you_need.keys()\n",
    "    values = dict_is_all_you_need.values()\n",
    "\n",
    "    values, keys = zip(*sorted(zip(values, keys), reverse=True))"
   ]
  },
  {
   "cell_type": "code",
   "execution_count": null,
   "metadata": {},
   "outputs": [],
   "source": []
  }
 ],
 "metadata": {
  "kernelspec": {
   "display_name": "Python 3",
   "language": "python",
   "name": "python3"
  },
  "language_info": {
   "codemirror_mode": {
    "name": "ipython",
    "version": 3
   },
   "file_extension": ".py",
   "mimetype": "text/x-python",
   "name": "python",
   "nbconvert_exporter": "python",
   "pygments_lexer": "ipython3",
   "version": "3.7.1"
  }
 },
 "nbformat": 4,
 "nbformat_minor": 2
}
