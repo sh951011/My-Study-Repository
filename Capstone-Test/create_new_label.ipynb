{
 "cells": [
  {
   "cell_type": "code",
   "execution_count": 1,
   "metadata": {},
   "outputs": [
    {
     "name": "stdout",
     "output_type": "stream",
     "text": [
      "Wall time: 0 ns\n"
     ]
    }
   ],
   "source": [
    "%%time\n",
    "def dir_padding(i):\n",
    "    if i < 10: return '000' + str(i)\n",
    "    elif i < 100: return '00' + str(i)\n",
    "    elif i < 1000: return '0' + str(i)\n",
    "    elif i < 10000 : return str(i)"
   ]
  },
  {
   "cell_type": "code",
   "execution_count": 2,
   "metadata": {},
   "outputs": [],
   "source": [
    "def file_padding(i):\n",
    "    if i < 10: return '00000' + str(i)\n",
    "    elif i < 100: return '0000' + str(i)\n",
    "    elif i < 1000: return '000' + str(i)\n",
    "    elif i < 10000: return '00' + str(i)\n",
    "    elif i < 100000: return '0' + str(i)\n",
    "    else: return str(i)"
   ]
  },
  {
   "cell_type": "code",
   "execution_count": 10,
   "metadata": {},
   "outputs": [],
   "source": [
    "def get_path(base_path, base_dir, mid_dir, filename):\n",
    "    return base_path + base_dir + '/' + mid_dir + '/' + filename"
   ]
  },
  {
   "cell_type": "code",
   "execution_count": null,
   "metadata": {},
   "outputs": [],
   "source": [
    "from collections import Counter, defaultdict\n",
    "def preprocess_label(sentence, dict_)\n",
    "    dict_is_all_you_need = defaultdict(int) # 밖에서 선언한거 가지고 오셈!!\n",
    "\n",
    "    for ch in sentence:\n",
    "        if ch == ' ':continue\n",
    "        dict_is_all_you_need[ch] += 1\n",
    "\n",
    "    keys = dict_is_all_you_need.keys()\n",
    "    values = dict_is_all_you_need.values()\n",
    "\n",
    "    values, keys = zip(*sorted(zip(values, keys), reverse=True))"
   ]
  },
  {
   "cell_type": "code",
   "execution_count": 41,
   "metadata": {},
   "outputs": [
    {
     "name": "stdout",
     "output_type": "stream",
     "text": [
      "[124, 248, 372, 496]\n",
      "['KsponSpeech_01', 'KsponSpeech_02', 'KsponSpeech_03', 'KsponSpeech_04', 'KsponSpeech_05']\n",
      "started...\n",
      "ended!!!\n",
      "Wall time: 21min 19s\n"
     ]
    }
   ],
   "source": [
    "%%time\n",
    "EXCEPTION = ['(', ')', '/']\n",
    "folder_change_point = [124 * x for x in range(1,5)]\n",
    "print(folder_change_point)\n",
    "base_path = \"E:/한국어 음성데이터/\"\n",
    "base_dir = ['KsponSpeech_0' + str(x) for x in range(1,6)]\n",
    "print(base_dir)\n",
    "mid_dir = ['KsponSpeech_' + str(dir_padding(x)) for x in range(1,624)]\n",
    "\n",
    "base_dir_idx = 0\n",
    "mid_dir_idx = 0\n",
    "past_mid_dir_idx = -1\n",
    "print('started...')\n",
    "for file_num in range(1, 622546):\n",
    "    if file_num % 1000 == 1 and file_num != 1: mid_dir_idx += 1\n",
    "    if mid_dir_idx in folder_change_point and mid_dir_idx != past_mid_dir_idx:\n",
    "        past_mid_dir_idx = mid_dir_idx\n",
    "        base_dir_idx += 1\n",
    "    path = get_path(base_path, base_dir[base_dir_idx], mid_dir[mid_dir_idx], 'KsponSpeech_' + file_padding(file_num))\n",
    "    file = open(path, 'r')\n",
    "    file.close()\n",
    "print('ended!!!')"
   ]
  },
  {
   "cell_type": "code",
   "execution_count": 4,
   "metadata": {},
   "outputs": [
    {
     "data": {
      "text/plain": [
       "'근데 삼 학년 때 까지는 국가장학금 바+ 받으면서 다녔던 건가?'"
      ]
     },
     "execution_count": 4,
     "metadata": {},
     "output_type": "execute_result"
    }
   ],
   "source": [
    "text = \"아 씨발 (2019년)/(이천 십 구 년) 다 갔네 b/\"\n",
    "text2 = \"o/ 근데 (70%)/(칠십 퍼센트)가 커 보이긴 하는데 (200)/(이백) 벌다 (140)/(백 사십) 벌면 빡셀걸? b/\"\n",
    "text3 = \"근데 (3학년)/(삼 학년) 때 까지는 국가장학금 바+ 받으면서 다녔던 건가?\"\n",
    "def filter_double_copied(sentence):\n",
    "    new_sentence = str()\n",
    "    flag = False\n",
    "    \n",
    "    for ch in sentence:\n",
    "        if ch == '(' and flag == False: \n",
    "            flag = True\n",
    "            continue\n",
    "        if ch == '(' and flag == True:\n",
    "            flag = False\n",
    "            continue\n",
    "        if ch != ')' and flag == False:\n",
    "            new_sentence += ch\n",
    "    return new_sentence\n",
    "\n",
    "filter_double_copied(text3)"
   ]
  },
  {
   "cell_type": "code",
   "execution_count": 12,
   "metadata": {},
   "outputs": [
    {
     "data": {
      "text/plain": [
       "'근데 삼 학년 때 까지는 국가장학금 바 받으면서 다녔던 건가?'"
      ]
     },
     "execution_count": 12,
     "metadata": {},
     "output_type": "execute_result"
    }
   ],
   "source": [
    "SENTENCE_MARK = ['.', '?', ',', '!']\n",
    "def del_special_ch(sentence):\n",
    "    import re\n",
    "    new_sentence = str()\n",
    "    for idx, ch in enumerate(sentence):\n",
    "        if ch not in SENTENCE_MARK:\n",
    "            if idx + 1 < len(sentence) and ch.isalpha() and sentence[idx+1] == '/': continue\n",
    "        if ch != '/' and ch != '+' and ch != '*': new_sentence += ch\n",
    "    pattern = re.compile(r'\\s\\s+')\n",
    "    new_sentence = re.sub(pattern, ' ', new_sentence.strip())\n",
    "    return new_sentence\n",
    "del_special_ch(\"근데 삼 학년 때 까지는 국가장학금 바+ 받으면서 다녔던 건가?\")"
   ]
  },
  {
   "cell_type": "code",
   "execution_count": 6,
   "metadata": {},
   "outputs": [
    {
     "data": {
      "text/plain": [
       "'근데 삼 학년 때 까지는 국가장학금 바 받으면서 다녔던 건가?'"
      ]
     },
     "execution_count": 6,
     "metadata": {},
     "output_type": "execute_result"
    }
   ],
   "source": [
    "def sentence_filter(raw_sentence):\n",
    "    return del_special_ch(filter_double_copied(raw_sentence))\n",
    "sentence_filter(\"근데 삼 학년 때 까지는 국가장학금 바+ 받으면서 다녔던 건가?\")"
   ]
  },
  {
   "cell_type": "code",
   "execution_count": null,
   "metadata": {},
   "outputs": [
    {
     "name": "stdout",
     "output_type": "stream",
     "text": [
      "started...\n"
     ]
    },
    {
     "name": "stderr",
     "output_type": "stream",
     "text": [
      " 37%|██████████████████████████                                            | 231986/622545 [5:21:28<5:20:42, 20.30it/s]"
     ]
    }
   ],
   "source": [
    "%%time\n",
    "import os\n",
    "from tqdm import trange\n",
    "EXCEPTION = ['(', ')', '/']\n",
    "folder_change_point = [124 * x for x in range(1,5)]\n",
    "base_path = \"E:/한국어 음성데이터/\"\n",
    "base_dir = ['KsponSpeech_0' + str(x) for x in range(1,6)]\n",
    "mid_dir = ['KsponSpeech_' + str(dir_padding(x)) for x in range(1,624)]\n",
    "\n",
    "base_dir_idx = 0\n",
    "mid_dir_idx = 0\n",
    "past_mid_dir_idx = -1\n",
    "print('started...')\n",
    "for file_num in trange(1, 622546):\n",
    "    if file_num % 1000 == 1 and file_num != 1: mid_dir_idx += 1\n",
    "    if mid_dir_idx in folder_change_point and mid_dir_idx != past_mid_dir_idx:\n",
    "        past_mid_dir_idx = mid_dir_idx\n",
    "        base_dir_idx += 1\n",
    "    path = get_path(base_path, base_dir[base_dir_idx], mid_dir[mid_dir_idx], 'KsponSpeech_' + file_padding(file_num))\n",
    "    file = open(path + \".txt\", 'r')\n",
    "    raw_sentence = file.readline()\n",
    "    file.close()\n",
    "    new_file = open(path + \"_new.txt\", \"w\")\n",
    "    new_file.write(sentence_filter(raw_sentence))\n",
    "    new_file.close()\n",
    "print('ended!!!')"
   ]
  },
  {
   "cell_type": "code",
   "execution_count": 13,
   "metadata": {},
   "outputs": [
    {
     "data": {
      "text/plain": [
       "'그 군 복무하던 남자랑 이제 같이 갔죠. 그서 거기 그 근처에서 펜션 잡아서 삼백원'"
      ]
     },
     "execution_count": 13,
     "metadata": {},
     "output_type": "execute_result"
    }
   ],
   "source": [
    "import re\n",
    "test = sentence_filter(\"b/ 그 b/ 군 복무하던 남자랑 b/ 이제 같이 갔죠. 그서 b/ 거기 그 근처에서 펜션 잡아서 (300원)/(삼백원)\")\n",
    "pattern = re.compile(r'\\s\\s+')\n",
    "string_ex = re.sub(pattern, ' ', test)\n",
    "string_ex"
   ]
  }
 ],
 "metadata": {
  "kernelspec": {
   "display_name": "Python 3",
   "language": "python",
   "name": "python3"
  },
  "language_info": {
   "codemirror_mode": {
    "name": "ipython",
    "version": 3
   },
   "file_extension": ".py",
   "mimetype": "text/x-python",
   "name": "python",
   "nbconvert_exporter": "python",
   "pygments_lexer": "ipython3",
   "version": "3.7.1"
  }
 },
 "nbformat": 4,
 "nbformat_minor": 2
}
