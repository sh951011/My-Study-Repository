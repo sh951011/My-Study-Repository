{
 "cells": [
  {
   "cell_type": "code",
   "execution_count": null,
   "metadata": {},
   "outputs": [],
   "source": [
    "import numpy as np\n",
    "import matplotlib.pyplot as plt\n",
    "import matplotlib.cm as cm\n",
    "import torch\n",
    "\n",
    "def dataset_generator():\n",
    "    n_train_point = 5000\n",
    "    x_train_data = np.random.uniform(low = -2, high = 2, size = (n_train_point, 2))\n",
    "    y_train_data = np.zeros(shape = (n_train_point))\n",
    "    \n",
    "    n_test_point = 2000\n",
    "    x_test_data = np.random.uniform(low = -2, high = 2, size = (n_test_point, 2))\n",
    "    y_test_data = np.zeros(shape = (n_test_point))\n",
    "    \n",
    "    for data_idx in range(n_train_point):\n",
    "        if x_train_data[data_idx, 1] >=  0.2*x_train_data[data_idx, 0] - 1 and x_train_data[data_idx, 0] <= -1 + 0.1*np.random.normal(0,1,1):\n",
    "            y_train_data[data_idx] = 1.\n",
    "        if x_train_data[data_idx, 1] <=  -0.2*x_train_data[data_idx, 0] + 1 and x_train_data[data_idx, 0] >= 1 + 0.1*np.random.normal(0,1,1):\n",
    "            y_train_data[data_idx] = 1.\n",
    "        if np.power(x_train_data[data_idx, 0], 2) + np.power(x_train_data[data_idx, 1], 2) <= 0.25 + 0.1*np.random.normal(0,1,1):\n",
    "            y_train_data[data_idx] = 1.\n",
    "    \n",
    "    for data_idx in range(n_test_point):\n",
    "        if x_test_data[data_idx, 1] >=  0.2*x_test_data[data_idx, 0] - 1 and x_test_data[data_idx, 0] <= -1 + 0.1*np.random.normal(0,1,1):\n",
    "            y_test_data[data_idx] = 1.\n",
    "        if x_test_data[data_idx, 1] <=  -0.2*x_test_data[data_idx, 0] + 1 and x_test_data[data_idx, 0] >= 1 + 0.1*np.random.normal(0,1,1):\n",
    "            y_test_data[data_idx] = 1.\n",
    "        if np.power(x_test_data[data_idx, 0], 2) + np.power(x_test_data[data_idx, 1], 2) <= 0.25 + 0.1*np.random.normal(0,1,1):\n",
    "            y_test_data[data_idx] = 1.\n",
    "            \n",
    "    return x_train_data, y_train_data, x_test_data, y_test_data\n",
    "\n",
    "def tester(x_train_data, y_train_data, model, trained_dict):\n",
    "    if torch.cuda.is_available():\n",
    "        device = torch.device('cuda')\n",
    "    else:\n",
    "        device = torch.device('cpu')\n",
    "        \n",
    "    x_train_data, y_train_data = x_train_data.cpu().numpy(), y_train_data.cpu().numpy().reshape(-1)    \n",
    "    cmap = cm.get_cmap('bwr_r', 2)\n",
    "    \n",
    "    model.load_state_dict(trained_dict)\n",
    "    \n",
    "    \n",
    "    fig, ax2 = plt.subplots(figsize = (15,15))\n",
    "    ax2.scatter(x_train_data[:,0], x_train_data[:,1], marker = 'o', color = cmap(y_train_data), alpha = 0.4)\n",
    "    test_x1 = np.linspace(-2, 2, 500)\n",
    "    test_x2 = np.linspace(-2, 2, 600)\n",
    "    X1, X2 = np.meshgrid(test_x1, test_x2)\n",
    "    \n",
    "    test_X = np.dstack((X1, X2)).reshape(-1,2)\n",
    "    test_result = model(torch.tensor(test_X, dtype = torch.float, device = device))\n",
    "    test_result = test_result.view(600,500).detach().cpu().numpy()\n",
    "    ax2.pcolor(X1, X2, test_result, cmap = 'bwr_r', alpha = 0.2)\n",
    "    ax2.axis('off')\n",
    "    fig.savefig('./decision_boundary.png')"
   ]
  }
 ],
 "metadata": {
  "kernelspec": {
   "display_name": "Python 3",
   "language": "python",
   "name": "python3"
  },
  "language_info": {
   "codemirror_mode": {
    "name": "ipython",
    "version": 3
   },
   "file_extension": ".py",
   "mimetype": "text/x-python",
   "name": "python",
   "nbconvert_exporter": "python",
   "pygments_lexer": "ipython3",
   "version": "3.7.1"
  }
 },
 "nbformat": 4,
 "nbformat_minor": 2
}
